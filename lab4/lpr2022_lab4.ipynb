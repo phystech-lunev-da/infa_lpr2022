{
 "cells": [
  {
   "cell_type": "markdown",
   "metadata": {},
   "source": [
    "# Библиотека numpy"
   ]
  },
  {
   "cell_type": "markdown",
   "metadata": {},
   "source": [
    "**NumPy** — это библиотека языка Python, добавляющая поддержку больших многомерных массивов и матриц, вместе с большой библиотекой высокоуровневых (и очень быстрых) математических функций для операций с этими массивами."
   ]
  },
  {
   "cell_type": "markdown",
   "metadata": {},
   "source": [
    "Основным объектом NumPy является однородный многомерный массив (в numpy называется numpy.ndarray). Это многомерный массив элементов (обычно чисел), одного типа.\n",
    "\n",
    "Наиболее важные атрибуты объектов ndarray:\n",
    "\n",
    "**ndarray.ndim** - число измерений (чаще их называют \"оси\") массива.\n",
    "\n",
    "**ndarray.shape** - размеры массива, его форма. Это кортеж натуральных чисел, показывающий длину массива по каждой оси. Для матрицы из n строк и m столбов, shape будет (n,m). Число элементов кортежа shape равно ndim.\n",
    "\n",
    "**ndarray.size** - количество элементов массива. Очевидно, равно произведению всех элементов атрибута shape.\n",
    "\n",
    "**ndarray.dtype** - объект, описывающий тип элементов массива. Можно определить dtype, используя стандартные типы данных Python. NumPy здесь предоставляет целый букет возможностей, как встроенных, например: bool_, character, int8, int16, int32, int64, float8, float16, float32, float64, complex64, object_, так и возможность определить собственные типы данных, в том числе и составные.\n",
    "\n",
    "**ndarray.itemsize** - размер каждого элемента массива в байтах."
   ]
  },
  {
   "cell_type": "markdown",
   "metadata": {},
   "source": [
    "# Создание массивов"
   ]
  },
  {
   "cell_type": "markdown",
   "metadata": {},
   "source": [
    "В NumPy существует много способов создать массив. Один из наиболее простых - создать массив из обычных списков или кортежей Python, используя функцию numpy.array() (запомните: array - функция, создающая объект типа ndarray):"
   ]
  },
  {
   "cell_type": "code",
   "execution_count": 1,
   "metadata": {},
   "outputs": [
    {
     "data": {
      "text/plain": [
       "array([1, 2, 3])"
      ]
     },
     "execution_count": 1,
     "metadata": {},
     "output_type": "execute_result"
    }
   ],
   "source": [
    "import numpy as np\n",
    "\n",
    "a = np.array([1, 2, 3])\n",
    "a"
   ]
  },
  {
   "cell_type": "code",
   "execution_count": 2,
   "metadata": {},
   "outputs": [
    {
     "data": {
      "text/plain": [
       "numpy.ndarray"
      ]
     },
     "execution_count": 2,
     "metadata": {},
     "output_type": "execute_result"
    }
   ],
   "source": [
    "type(a)"
   ]
  },
  {
   "cell_type": "markdown",
   "metadata": {},
   "source": [
    "Функция array() трансформирует вложенные последовательности в многомерные массивы. Тип элементов массива зависит от типа элементов исходной последовательности (но можно и переопределить его в момент создания)."
   ]
  },
  {
   "cell_type": "code",
   "execution_count": 3,
   "metadata": {},
   "outputs": [
    {
     "data": {
      "text/plain": [
       "array([[1.5, 2. , 3. ],\n",
       "       [4. , 5. , 6. ]])"
      ]
     },
     "execution_count": 3,
     "metadata": {},
     "output_type": "execute_result"
    }
   ],
   "source": [
    "b = np.array([[1.5, 2, 3], [4, 5, 6]])\n",
    "b"
   ]
  },
  {
   "cell_type": "markdown",
   "metadata": {},
   "source": [
    "Можно также переопределить тип в момент создания:"
   ]
  },
  {
   "cell_type": "code",
   "execution_count": 4,
   "metadata": {},
   "outputs": [
    {
     "name": "stderr",
     "output_type": "stream",
     "text": [
      "C:\\Users\\Dmitr\\AppData\\Local\\Temp\\ipykernel_9484\\2311286893.py:1: DeprecationWarning: `np.complex` is a deprecated alias for the builtin `complex`. To silence this warning, use `complex` by itself. Doing this will not modify any behavior and is safe. If you specifically wanted the numpy scalar type, use `np.complex128` here.\n",
      "Deprecated in NumPy 1.20; for more details and guidance: https://numpy.org/devdocs/release/1.20.0-notes.html#deprecations\n",
      "  b = np.array([[1.5, 2, 3], [4, 5, 6]], dtype=np.complex)\n"
     ]
    },
    {
     "data": {
      "text/plain": [
       "array([[1.5+0.j, 2. +0.j, 3. +0.j],\n",
       "       [4. +0.j, 5. +0.j, 6. +0.j]])"
      ]
     },
     "execution_count": 4,
     "metadata": {},
     "output_type": "execute_result"
    }
   ],
   "source": [
    "b = np.array([[1.5, 2, 3], [4, 5, 6]], dtype=np.complex)\n",
    "b"
   ]
  },
  {
   "cell_type": "markdown",
   "metadata": {},
   "source": [
    "Функция array() не единственная функция для создания массивов. Обычно элементы массива вначале неизвестны, а массив, в котором они будут храниться, уже нужен. Поэтому имеется несколько функций для того, чтобы создавать массивы с каким-то исходным содержимым (по умолчанию тип создаваемого массива — float64).\n",
    "\n",
    "Функция zeros() создает массив из нулей, а функция ones() — массив из единиц. Обе функции принимают кортеж с размерами, и аргумент dtype:"
   ]
  },
  {
   "cell_type": "code",
   "execution_count": 5,
   "metadata": {},
   "outputs": [
    {
     "data": {
      "text/plain": [
       "array([[0., 0., 0., 0., 0.],\n",
       "       [0., 0., 0., 0., 0.],\n",
       "       [0., 0., 0., 0., 0.]])"
      ]
     },
     "execution_count": 5,
     "metadata": {},
     "output_type": "execute_result"
    }
   ],
   "source": [
    "a = np.zeros((3, 5))\n",
    "a"
   ]
  },
  {
   "cell_type": "code",
   "execution_count": 6,
   "metadata": {},
   "outputs": [
    {
     "data": {
      "text/plain": [
       "array([[[1., 1.],\n",
       "        [1., 1.]],\n",
       "\n",
       "       [[1., 1.],\n",
       "        [1., 1.]]])"
      ]
     },
     "execution_count": 6,
     "metadata": {},
     "output_type": "execute_result"
    }
   ],
   "source": [
    "a = np.ones((2, 2, 2))\n",
    "a"
   ]
  },
  {
   "cell_type": "markdown",
   "metadata": {},
   "source": [
    "Функция eye() создаёт единичную матрицу (двумерный массив)"
   ]
  },
  {
   "cell_type": "code",
   "execution_count": 7,
   "metadata": {},
   "outputs": [
    {
     "data": {
      "text/plain": [
       "array([[1., 0., 0., 0., 0.],\n",
       "       [0., 1., 0., 0., 0.],\n",
       "       [0., 0., 1., 0., 0.],\n",
       "       [0., 0., 0., 1., 0.],\n",
       "       [0., 0., 0., 0., 1.]])"
      ]
     },
     "execution_count": 7,
     "metadata": {},
     "output_type": "execute_result"
    }
   ],
   "source": [
    "a = np.eye(5)\n",
    "a"
   ]
  },
  {
   "cell_type": "markdown",
   "metadata": {},
   "source": [
    "Функция empty() создает массив без его заполнения. Исходное содержимое случайно и зависит от состояния памяти на момент создания массива (то есть от того мусора, что в ней хранится):"
   ]
  },
  {
   "cell_type": "code",
   "execution_count": 8,
   "metadata": {},
   "outputs": [
    {
     "data": {
      "text/plain": [
       "array([[0.00000000e+000, 0.00000000e+000, 0.00000000e+000],\n",
       "       [0.00000000e+000, 0.00000000e+000, 7.35169681e-321],\n",
       "       [1.30290542e-311, 1.30290542e-311, 0.00000000e+000]])"
      ]
     },
     "execution_count": 8,
     "metadata": {},
     "output_type": "execute_result"
    }
   ],
   "source": [
    "a = np.empty((3, 3))\n",
    "a"
   ]
  },
  {
   "cell_type": "markdown",
   "metadata": {},
   "source": [
    "Для создания последовательностей чисел, в NumPy имеется функция arange(), аналогичная встроенной в Python range(), только вместо списков она возвращает массивы, и принимает не только целые значения:"
   ]
  },
  {
   "cell_type": "code",
   "execution_count": 9,
   "metadata": {},
   "outputs": [
    {
     "data": {
      "text/plain": [
       "array([10, 15, 20, 25])"
      ]
     },
     "execution_count": 9,
     "metadata": {},
     "output_type": "execute_result"
    }
   ],
   "source": [
    "a = np.arange(10, 30, 5)\n",
    "a"
   ]
  },
  {
   "cell_type": "code",
   "execution_count": 10,
   "metadata": {},
   "outputs": [
    {
     "data": {
      "text/plain": [
       "array([0. , 0.1, 0.2, 0.3, 0.4, 0.5, 0.6, 0.7, 0.8, 0.9])"
      ]
     },
     "execution_count": 10,
     "metadata": {},
     "output_type": "execute_result"
    }
   ],
   "source": [
    "a = np.arange(0, 1, 0.1)\n",
    "a"
   ]
  },
  {
   "cell_type": "markdown",
   "metadata": {},
   "source": [
    "Вообще, при использовании arange() с аргументами типа float, сложно быть уверенным в том, сколько элементов будет получено (из-за ограничения точности чисел с плавающей запятой). Поэтому, в таких случаях обычно лучше использовать функцию linspace(), которая вместо шага в качестве одного из аргументов принимает число, равное количеству нужных элементов:"
   ]
  },
  {
   "cell_type": "code",
   "execution_count": 11,
   "metadata": {},
   "outputs": [
    {
     "data": {
      "text/plain": [
       "array([0.  , 0.25, 0.5 , 0.75, 1.  , 1.25, 1.5 , 1.75, 2.  ])"
      ]
     },
     "execution_count": 11,
     "metadata": {},
     "output_type": "execute_result"
    }
   ],
   "source": [
    "a = np.linspace(0, 2, 9)  # 9 чисел от 0 до 2 включительно\n",
    "a"
   ]
  },
  {
   "cell_type": "markdown",
   "metadata": {},
   "source": [
    "# Изменение формы массивов"
   ]
  },
  {
   "cell_type": "markdown",
   "metadata": {},
   "source": [
    "Предположим, у нас имеется массив, состоящий из десяти чисел: "
   ]
  },
  {
   "cell_type": "code",
   "execution_count": 12,
   "metadata": {},
   "outputs": [
    {
     "data": {
      "text/plain": [
       "array([0, 1, 2, 3, 4, 5, 6, 7, 8, 9])"
      ]
     },
     "execution_count": 12,
     "metadata": {},
     "output_type": "execute_result"
    }
   ],
   "source": [
    "a = np.arange(10)\n",
    "a"
   ]
  },
  {
   "cell_type": "markdown",
   "metadata": {},
   "source": [
    "Для изменения формы этого массива, достаточно указать свойству shape кортеж с новыми размерами, например, так: "
   ]
  },
  {
   "cell_type": "code",
   "execution_count": 13,
   "metadata": {},
   "outputs": [
    {
     "data": {
      "text/plain": [
       "array([[0, 1, 2, 3, 4],\n",
       "       [5, 6, 7, 8, 9]])"
      ]
     },
     "execution_count": 13,
     "metadata": {},
     "output_type": "execute_result"
    }
   ],
   "source": [
    "a.shape = 2, 5\n",
    "a"
   ]
  },
  {
   "cell_type": "markdown",
   "metadata": {},
   "source": [
    "В результате изменится представление массива, на которое ссылается переменная a. Если же требуется создать новое представление массива, сохранив прежнее, то следует воспользоваться методом reshape(): "
   ]
  },
  {
   "cell_type": "markdown",
   "metadata": {},
   "source": [
    "b = a.reshape(10)\n",
    "b"
   ]
  },
  {
   "cell_type": "markdown",
   "metadata": {},
   "source": [
    "Cсылки b и a будут использовать одни и те же данные, то есть, изменение массива через b: "
   ]
  },
  {
   "cell_type": "code",
   "execution_count": 14,
   "metadata": {},
   "outputs": [],
   "source": [
    "b[0] = -1 # приведет к изменению соответствующего элемента массива a: "
   ]
  },
  {
   "cell_type": "markdown",
   "metadata": {},
   "source": [
    "У свойства shape и метода reshape() размерность должна охватывать все элементы массива. Например, вот такая команда: "
   ]
  },
  {
   "cell_type": "code",
   "execution_count": 15,
   "metadata": {},
   "outputs": [
    {
     "ename": "ValueError",
     "evalue": "cannot reshape array of size 10 into shape (3,3)",
     "output_type": "error",
     "traceback": [
      "\u001b[1;31m---------------------------------------------------------------------------\u001b[0m",
      "\u001b[1;31mValueError\u001b[0m                                Traceback (most recent call last)",
      "Input \u001b[1;32mIn [15]\u001b[0m, in \u001b[0;36m<cell line: 1>\u001b[1;34m()\u001b[0m\n\u001b[1;32m----> 1\u001b[0m \u001b[43ma\u001b[49m\u001b[38;5;241;43m.\u001b[39;49m\u001b[43mshape\u001b[49m \u001b[38;5;241m=\u001b[39m \u001b[38;5;241m3\u001b[39m, \u001b[38;5;241m3\u001b[39m\n",
      "\u001b[1;31mValueError\u001b[0m: cannot reshape array of size 10 into shape (3,3)"
     ]
    }
   ],
   "source": [
    "a.shape = 3, 3"
   ]
  },
  {
   "cell_type": "markdown",
   "metadata": {},
   "source": [
    "приведет к ошибке, т.к. размерность 3x3 = 9 элементов, а в массиве 10 элементов. Здесь всегда должно выполняться равенство:\n",
    "\n",
    "n1 x n2 x … x nN = число элементов массива "
   ]
  },
  {
   "cell_type": "markdown",
   "metadata": {},
   "source": [
    "Но допускается делать так: "
   ]
  },
  {
   "cell_type": "code",
   "execution_count": 16,
   "metadata": {},
   "outputs": [
    {
     "data": {
      "text/plain": [
       "array([[0, 1],\n",
       "       [2, 3],\n",
       "       [4, 5],\n",
       "       [6, 7],\n",
       "       [8, 9]])"
      ]
     },
     "execution_count": 16,
     "metadata": {},
     "output_type": "execute_result"
    }
   ],
   "source": [
    "a.shape = -1, 2\n",
    "a"
   ]
  },
  {
   "cell_type": "markdown",
   "metadata": {},
   "source": [
    "Отрицательное значение -1 означает автоматическое вычисление размерности по первой оси. По второй берется значение 2. В этом случае получим размерность 5x2.\n",
    "\n",
    "То же самое можно делать и в методе reshape(): "
   ]
  },
  {
   "cell_type": "code",
   "execution_count": 17,
   "metadata": {},
   "outputs": [
    {
     "name": "stdout",
     "output_type": "stream",
     "text": [
      "[[-1.+0.j -1.+0.j -1.+0.j]\n",
      " [ 4.+0.j  5.+0.j  6.+0.j]]\n",
      "[[-1.+0.j -1.+0.j -1.+0.j]\n",
      " [ 4.+0.j  5.+0.j  6.+0.j]]\n"
     ]
    }
   ],
   "source": [
    "b.reshape(-1, 1)\n",
    "print(b)\n",
    "b.reshape(1, -1)\n",
    "print(b)"
   ]
  },
  {
   "cell_type": "markdown",
   "metadata": {},
   "source": [
    "Используя отрицательный индекс, можно делать и такие преобразования: "
   ]
  },
  {
   "cell_type": "code",
   "execution_count": 18,
   "metadata": {},
   "outputs": [
    {
     "name": "stdout",
     "output_type": "stream",
     "text": [
      "[[-1.+0.j -1.+0.j -1.+0.j]\n",
      " [ 4.+0.j  5.+0.j  6.+0.j]]\n",
      "[[-1.+0.j -1.+0.j -1.+0.j]\n",
      " [ 4.+0.j  5.+0.j  6.+0.j]]\n"
     ]
    }
   ],
   "source": [
    "b.reshape(2, -1)\n",
    "print(b)\n",
    "b.reshape(-1, 2)\n",
    "print(b)"
   ]
  },
  {
   "cell_type": "markdown",
   "metadata": {},
   "source": [
    "Если нам требуется многомерный массив преобразовать в обычный одномерный, то можно воспользоваться методом ravel(), который возвращает новое представление, не меняя текущего: "
   ]
  },
  {
   "cell_type": "code",
   "execution_count": 19,
   "metadata": {},
   "outputs": [
    {
     "data": {
      "text/plain": [
       "array([-1.+0.j, -1.+0.j, -1.+0.j,  4.+0.j,  5.+0.j,  6.+0.j])"
      ]
     },
     "execution_count": 19,
     "metadata": {},
     "output_type": "execute_result"
    }
   ],
   "source": [
    "c = b.ravel() # с ссылается на одномерное представление массива\n",
    "c"
   ]
  },
  {
   "cell_type": "markdown",
   "metadata": {},
   "source": [
    "Если же нам нужно текущий массив преобразовать в одномерный, то это можно сделать так: "
   ]
  },
  {
   "cell_type": "code",
   "execution_count": 20,
   "metadata": {},
   "outputs": [],
   "source": [
    "b.shape = -1"
   ]
  },
  {
   "cell_type": "markdown",
   "metadata": {},
   "source": [
    "Помимо свойства shape можно использовать метод resize, который выполняет подобную операцию с текущим массивом. Например: "
   ]
  },
  {
   "cell_type": "code",
   "execution_count": 21,
   "metadata": {},
   "outputs": [],
   "source": [
    "a.resize(2, 5) # массив 2x5"
   ]
  },
  {
   "cell_type": "markdown",
   "metadata": {},
   "source": [
    "Но, как мы уже говорили, вот такая строчка приведет к ошибке: "
   ]
  },
  {
   "cell_type": "code",
   "execution_count": 22,
   "metadata": {},
   "outputs": [
    {
     "ename": "ValueError",
     "evalue": "cannot resize an array that references or is referenced\nby another array in this way.\nUse the np.resize function or refcheck=False",
     "output_type": "error",
     "traceback": [
      "\u001b[1;31m---------------------------------------------------------------------------\u001b[0m",
      "\u001b[1;31mValueError\u001b[0m                                Traceback (most recent call last)",
      "Input \u001b[1;32mIn [22]\u001b[0m, in \u001b[0;36m<cell line: 1>\u001b[1;34m()\u001b[0m\n\u001b[1;32m----> 1\u001b[0m \u001b[43ma\u001b[49m\u001b[38;5;241;43m.\u001b[39;49m\u001b[43mresize\u001b[49m\u001b[43m(\u001b[49m\u001b[38;5;241;43m3\u001b[39;49m\u001b[43m,\u001b[49m\u001b[43m \u001b[49m\u001b[38;5;241;43m3\u001b[39;49m\u001b[43m)\u001b[49m\n",
      "\u001b[1;31mValueError\u001b[0m: cannot resize an array that references or is referenced\nby another array in this way.\nUse the np.resize function or refcheck=False"
     ]
    }
   ],
   "source": [
    "a.resize(3, 3)  # ошибка: 3x3 != 10"
   ]
  },
  {
   "cell_type": "markdown",
   "metadata": {},
   "source": [
    "# Транспонирование матриц и векторов"
   ]
  },
  {
   "cell_type": "markdown",
   "metadata": {},
   "source": [
    "Очень часто в математических операциях требуется выполнять транспонирование матриц и векторов, то есть, заменять строки на столбцы. Например, если имеется матрица (двумерный массив): "
   ]
  },
  {
   "cell_type": "code",
   "execution_count": 23,
   "metadata": {},
   "outputs": [
    {
     "data": {
      "text/plain": [
       "array([[ 1,  2,  3],\n",
       "       [ 1,  4,  9],\n",
       "       [ 1,  8, 27]])"
      ]
     },
     "execution_count": 23,
     "metadata": {},
     "output_type": "execute_result"
    }
   ],
   "source": [
    "a = np.array([(1, 2, 3), (1, 4, 9), (1, 8, 27)])\n",
    "a"
   ]
  },
  {
   "cell_type": "markdown",
   "metadata": {},
   "source": [
    "то операция транспонирования может быть реализована так: "
   ]
  },
  {
   "cell_type": "code",
   "execution_count": 24,
   "metadata": {},
   "outputs": [
    {
     "data": {
      "text/plain": [
       "array([[ 1,  1,  1],\n",
       "       [ 2,  4,  8],\n",
       "       [ 3,  9, 27]])"
      ]
     },
     "execution_count": 24,
     "metadata": {},
     "output_type": "execute_result"
    }
   ],
   "source": [
    "b = a.T\n",
    "b"
   ]
  },
  {
   "cell_type": "markdown",
   "metadata": {},
   "source": [
    "Обратите внимание, мы здесь создаем лишь новое представление тех же самых данных массива a. И изменение элементов в массиве b: "
   ]
  },
  {
   "cell_type": "code",
   "execution_count": 25,
   "metadata": {},
   "outputs": [],
   "source": [
    "b[0, 1] = 10"
   ]
  },
  {
   "cell_type": "markdown",
   "metadata": {},
   "source": [
    "приведет к соответствующему изменению значения элемента и массива a. Это следует помнить, используя операцию транспонирования.\n",
    "\n",
    "Транспонирование векторов работает несколько иначе. Предположим, имеется одномерный массив: "
   ]
  },
  {
   "cell_type": "code",
   "execution_count": 26,
   "metadata": {},
   "outputs": [
    {
     "data": {
      "text/plain": [
       "array([1, 2, 3, 4, 5, 6, 7, 8, 9])"
      ]
     },
     "execution_count": 26,
     "metadata": {},
     "output_type": "execute_result"
    }
   ],
   "source": [
    "x = np.arange(1, 10)\n",
    "x"
   ]
  },
  {
   "cell_type": "markdown",
   "metadata": {},
   "source": [
    "и мы выполняем операцию транспонирования: "
   ]
  },
  {
   "cell_type": "code",
   "execution_count": 27,
   "metadata": {},
   "outputs": [
    {
     "data": {
      "text/plain": [
       "array([1, 2, 3, 4, 5, 6, 7, 8, 9])"
      ]
     },
     "execution_count": 27,
     "metadata": {},
     "output_type": "execute_result"
    }
   ],
   "source": [
    "x.T\n",
    "x"
   ]
  },
  {
   "cell_type": "markdown",
   "metadata": {},
   "source": [
    "В результате ничего не изменилось: вектор как был строкой, так строкой и остался. Почему? Дело в том, что массив x имеет только одну размерность, поэтому здесь нет понятия строк и столбцов. Соответственно, операция транспонирования ни к чему не приводит. Чтобы получить ожидаемый эффект, нужно добавить к массиву еще одну ось, например, так: "
   ]
  },
  {
   "cell_type": "code",
   "execution_count": 28,
   "metadata": {},
   "outputs": [],
   "source": [
    "x.shape = 1, -1"
   ]
  },
  {
   "cell_type": "markdown",
   "metadata": {},
   "source": [
    "И теперь, при транспонировании получим вектор-столбец: "
   ]
  },
  {
   "cell_type": "code",
   "execution_count": 29,
   "metadata": {},
   "outputs": [
    {
     "name": "stdout",
     "output_type": "stream",
     "text": [
      "[[1]\n",
      " [2]\n",
      " [3]\n",
      " [4]\n",
      " [5]\n",
      " [6]\n",
      " [7]\n",
      " [8]\n",
      " [9]]\n",
      "[[1 2 3 4 5 6 7 8 9]]\n"
     ]
    }
   ],
   "source": [
    "print(x.T)\n",
    "print(x)"
   ]
  },
  {
   "cell_type": "markdown",
   "metadata": {},
   "source": [
    "# Операции с индексами"
   ]
  },
  {
   "cell_type": "markdown",
   "metadata": {},
   "source": [
    "Оперативная память компьютера линейна, и поэтому даже многомерные массивы, на самом деле являются некоторыми линейными структурами, над которыми существуют система индексов, говорящих как именно читать этот линейный блок. Проведение операций над индексами в большистве случаев эффективно и поэтому операции смены размерности массива или транспонирования выполняются быстро"
   ]
  },
  {
   "cell_type": "code",
   "execution_count": 30,
   "metadata": {},
   "outputs": [
    {
     "name": "stdout",
     "output_type": "stream",
     "text": [
      "[[1 3]\n",
      " [2 4]]\n"
     ]
    }
   ],
   "source": [
    "import numpy as np\n",
    "\n",
    "a = np.asarray([[1,2], [3,4]])\n",
    "b = a.T # Транспонированый массив\n",
    "print(b)"
   ]
  },
  {
   "cell_type": "code",
   "execution_count": 31,
   "metadata": {},
   "outputs": [
    {
     "name": "stdout",
     "output_type": "stream",
     "text": [
      "[[10  3]\n",
      " [ 2  4]]\n"
     ]
    }
   ],
   "source": [
    "b[0,0] = 10\n",
    "print(b)"
   ]
  },
  {
   "cell_type": "code",
   "execution_count": 32,
   "metadata": {},
   "outputs": [
    {
     "name": "stdout",
     "output_type": "stream",
     "text": [
      "[[10  2]\n",
      " [ 3  4]]\n"
     ]
    }
   ],
   "source": [
    "print(a)"
   ]
  },
  {
   "cell_type": "code",
   "execution_count": 33,
   "metadata": {},
   "outputs": [
    {
     "data": {
      "text/plain": [
       "array([[11,  3],\n",
       "       [ 2,  4]])"
      ]
     },
     "execution_count": 33,
     "metadata": {},
     "output_type": "execute_result"
    }
   ],
   "source": [
    "b[0][0] = 11\n",
    "b"
   ]
  },
  {
   "cell_type": "markdown",
   "metadata": {},
   "source": [
    "Как мы видим при изменени переменной b изменилась переменная a. Это произошло потому, что обе эти переменные использубют один и тот же кусок памяти, но по разному."
   ]
  },
  {
   "cell_type": "markdown",
   "metadata": {},
   "source": [
    "# Добавление и удаление осей"
   ]
  },
  {
   "cell_type": "markdown",
   "metadata": {},
   "source": [
    "Часто при работе с массивами NumPy требуется добавлять новые оси измерений и удалять существующие. Есть множество способов выполнять эти операции, но мы рассмотрим два наиболее распространенных с помощью функций:\n",
    "\n",
    "    np.expand_dims(a, axis) – добавление новой оси;\n",
    "    np.squeeze(a[, axis]) – удаление оси (без удаления элементов). \n",
    "\n",
    "Давайте предположим, что у нас имеется некий многомерный массив: "
   ]
  },
  {
   "cell_type": "code",
   "execution_count": 34,
   "metadata": {},
   "outputs": [],
   "source": [
    "x_test = np.arange(32).reshape(8, 2, 2) # массив 8x2x2"
   ]
  },
  {
   "cell_type": "markdown",
   "metadata": {},
   "source": [
    "И нам потребовалось добавить еще одно измерение (ось), причем, в самое начало, то есть, ось axis0. Сейчас на этой оси 8 элементов – матриц 2x2, но мы хотим сделать четырехмерный массив, сохранив остальные три оси и их данные без изменений. Как раз это достаточно просто сделать с помощью функции expand_dims, следующим образом: "
   ]
  },
  {
   "cell_type": "code",
   "execution_count": 35,
   "metadata": {},
   "outputs": [],
   "source": [
    "x_test4 = np.expand_dims(x_test, axis=0)"
   ]
  },
  {
   "cell_type": "markdown",
   "metadata": {},
   "source": [
    "Обращаясь к свойству shape: "
   ]
  },
  {
   "cell_type": "markdown",
   "metadata": {},
   "source": [
    "x_test4.shape"
   ]
  },
  {
   "cell_type": "markdown",
   "metadata": {},
   "source": [
    "Видим, что массив стал четырехмерным и первая добавленная ось axis0 содержит один элемент – трехмерный массив 8x2x2. При необходимости, мы всегда можем добавить новый элемент на эту ось: "
   ]
  },
  {
   "cell_type": "code",
   "execution_count": 36,
   "metadata": {},
   "outputs": [
    {
     "data": {
      "text/plain": [
       "array([[[[ 0,  1],\n",
       "         [ 2,  3]],\n",
       "\n",
       "        [[ 4,  5],\n",
       "         [ 6,  7]],\n",
       "\n",
       "        [[ 8,  9],\n",
       "         [10, 11]],\n",
       "\n",
       "        [[12, 13],\n",
       "         [14, 15]],\n",
       "\n",
       "        [[16, 17],\n",
       "         [18, 19]],\n",
       "\n",
       "        [[20, 21],\n",
       "         [22, 23]],\n",
       "\n",
       "        [[24, 25],\n",
       "         [26, 27]],\n",
       "\n",
       "        [[28, 29],\n",
       "         [30, 31]]],\n",
       "\n",
       "\n",
       "       [[[ 0,  1],\n",
       "         [ 2,  3]],\n",
       "\n",
       "        [[ 4,  5],\n",
       "         [ 6,  7]],\n",
       "\n",
       "        [[ 8,  9],\n",
       "         [10, 11]],\n",
       "\n",
       "        [[12, 13],\n",
       "         [14, 15]],\n",
       "\n",
       "        [[16, 17],\n",
       "         [18, 19]],\n",
       "\n",
       "        [[20, 21],\n",
       "         [22, 23]],\n",
       "\n",
       "        [[24, 25],\n",
       "         [26, 27]],\n",
       "\n",
       "        [[28, 29],\n",
       "         [30, 31]]]])"
      ]
     },
     "execution_count": 36,
     "metadata": {},
     "output_type": "execute_result"
    }
   ],
   "source": [
    "a = np.append(x_test4, x_test4, axis=0) # размерность (2, 8, 2, 2)\n",
    "a"
   ]
  },
  {
   "cell_type": "markdown",
   "metadata": {},
   "source": [
    "или удалить ненужные элементы: "
   ]
  },
  {
   "cell_type": "code",
   "execution_count": 37,
   "metadata": {},
   "outputs": [
    {
     "data": {
      "text/plain": [
       "array([[[[ 0,  1],\n",
       "         [ 2,  3]],\n",
       "\n",
       "        [[ 4,  5],\n",
       "         [ 6,  7]],\n",
       "\n",
       "        [[ 8,  9],\n",
       "         [10, 11]],\n",
       "\n",
       "        [[12, 13],\n",
       "         [14, 15]],\n",
       "\n",
       "        [[16, 17],\n",
       "         [18, 19]],\n",
       "\n",
       "        [[20, 21],\n",
       "         [22, 23]],\n",
       "\n",
       "        [[24, 25],\n",
       "         [26, 27]],\n",
       "\n",
       "        [[28, 29],\n",
       "         [30, 31]]]])"
      ]
     },
     "execution_count": 37,
     "metadata": {},
     "output_type": "execute_result"
    }
   ],
   "source": [
    "b = np.delete(a, 0, axis=0) # размерность (1, 8, 2, 2)\n",
    "b"
   ]
  },
  {
   "cell_type": "markdown",
   "metadata": {},
   "source": [
    "Здесь второй параметр 0 – индекс удаляемого элемента на оси axis0.\n",
    "\n",
    "Если нам нужно добавить последнюю ось в массиве, то для этого можно записать такую команду: "
   ]
  },
  {
   "cell_type": "code",
   "execution_count": 38,
   "metadata": {},
   "outputs": [],
   "source": [
    "b = np.expand_dims(x_test4, axis=-1) # размерность (1, 8, 2, 2, 1)"
   ]
  },
  {
   "cell_type": "markdown",
   "metadata": {},
   "source": [
    "Отрицательный индекс -1 – это следующая с конца ось. Если указать индекс -2, то добавится предпоследняя ось и так далее. Отрицательные индексы очень удобно использовать при работе с массивами произвольных размерностей.\n",
    "\n",
    "Следующая функция squeeze позволяет удалить все оси с одним элементом. Например, строчка: "
   ]
  },
  {
   "cell_type": "code",
   "execution_count": 39,
   "metadata": {},
   "outputs": [
    {
     "data": {
      "text/plain": [
       "array([[[ 0,  1],\n",
       "        [ 2,  3]],\n",
       "\n",
       "       [[ 4,  5],\n",
       "        [ 6,  7]],\n",
       "\n",
       "       [[ 8,  9],\n",
       "        [10, 11]],\n",
       "\n",
       "       [[12, 13],\n",
       "        [14, 15]],\n",
       "\n",
       "       [[16, 17],\n",
       "        [18, 19]],\n",
       "\n",
       "       [[20, 21],\n",
       "        [22, 23]],\n",
       "\n",
       "       [[24, 25],\n",
       "        [26, 27]],\n",
       "\n",
       "       [[28, 29],\n",
       "        [30, 31]]])"
      ]
     },
     "execution_count": 39,
     "metadata": {},
     "output_type": "execute_result"
    }
   ],
   "source": [
    "c = np.squeeze(b) # размерность (8, 2, 2)\n",
    "c"
   ]
  },
  {
   "cell_type": "markdown",
   "metadata": {},
   "source": [
    "превращает массив размерностью (1, 8, 2, 2) в массив размерностью (8, 2, 2). При необходимости, дополнительно мы можем самостоятельно указать оси, которые следует удалять, например, так: "
   ]
  },
  {
   "cell_type": "code",
   "execution_count": 40,
   "metadata": {},
   "outputs": [],
   "source": [
    "c = np.squeeze(b, axis=0) # удалит только ось axis0, не затронув другие"
   ]
  },
  {
   "cell_type": "markdown",
   "metadata": {},
   "source": [
    "Но, если указать ось с числом элементов больше 1, то возникнет ошибка: "
   ]
  },
  {
   "cell_type": "code",
   "execution_count": 41,
   "metadata": {},
   "outputs": [
    {
     "ename": "ValueError",
     "evalue": "cannot select an axis to squeeze out which has size not equal to one",
     "output_type": "error",
     "traceback": [
      "\u001b[1;31m---------------------------------------------------------------------------\u001b[0m",
      "\u001b[1;31mValueError\u001b[0m                                Traceback (most recent call last)",
      "Input \u001b[1;32mIn [41]\u001b[0m, in \u001b[0;36m<cell line: 1>\u001b[1;34m()\u001b[0m\n\u001b[1;32m----> 1\u001b[0m c \u001b[38;5;241m=\u001b[39m \u001b[43mnp\u001b[49m\u001b[38;5;241;43m.\u001b[39;49m\u001b[43msqueeze\u001b[49m\u001b[43m(\u001b[49m\u001b[43mb\u001b[49m\u001b[43m,\u001b[49m\u001b[43m \u001b[49m\u001b[43maxis\u001b[49m\u001b[38;5;241;43m=\u001b[39;49m\u001b[38;5;241;43m1\u001b[39;49m\u001b[43m)\u001b[49m\n",
      "File \u001b[1;32m<__array_function__ internals>:180\u001b[0m, in \u001b[0;36msqueeze\u001b[1;34m(*args, **kwargs)\u001b[0m\n",
      "File \u001b[1;32m~\\AppData\\Local\\Programs\\Python\\Python310\\lib\\site-packages\\numpy\\core\\fromnumeric.py:1545\u001b[0m, in \u001b[0;36msqueeze\u001b[1;34m(a, axis)\u001b[0m\n\u001b[0;32m   1543\u001b[0m     \u001b[38;5;28;01mreturn\u001b[39;00m squeeze()\n\u001b[0;32m   1544\u001b[0m \u001b[38;5;28;01melse\u001b[39;00m:\n\u001b[1;32m-> 1545\u001b[0m     \u001b[38;5;28;01mreturn\u001b[39;00m \u001b[43msqueeze\u001b[49m\u001b[43m(\u001b[49m\u001b[43maxis\u001b[49m\u001b[38;5;241;43m=\u001b[39;49m\u001b[43maxis\u001b[49m\u001b[43m)\u001b[49m\n",
      "\u001b[1;31mValueError\u001b[0m: cannot select an axis to squeeze out which has size not equal to one"
     ]
    }
   ],
   "source": [
    "c = np.squeeze(b, axis=1) # ошибка, на оси axis1 8 элементов"
   ]
  },
  {
   "cell_type": "markdown",
   "metadata": {},
   "source": [
    "В NumPy добавлять новые оси иногда удобнее с помощью специального объекта np.newaxis. Например, пусть у нас есть одномерный массив: "
   ]
  },
  {
   "cell_type": "code",
   "execution_count": 42,
   "metadata": {},
   "outputs": [
    {
     "data": {
      "text/plain": [
       "array([1, 2, 3, 4, 5, 6, 7, 8, 9])"
      ]
     },
     "execution_count": 42,
     "metadata": {},
     "output_type": "execute_result"
    }
   ],
   "source": [
    "a = np.arange(1, 10)\n",
    "a"
   ]
  },
  {
   "cell_type": "markdown",
   "metadata": {},
   "source": [
    "У него одна ось – одно измерение. Добавим еще одну ось, допустим, в начало. С помощью объекта np.newaxis это можно сделать так: "
   ]
  },
  {
   "cell_type": "code",
   "execution_count": 43,
   "metadata": {},
   "outputs": [
    {
     "name": "stdout",
     "output_type": "stream",
     "text": [
      "[[1 2 3 4 5 6 7 8 9]]\n"
     ]
    },
    {
     "data": {
      "text/plain": [
       "(1, 9)"
      ]
     },
     "execution_count": 43,
     "metadata": {},
     "output_type": "execute_result"
    }
   ],
   "source": [
    "b = a[np.newaxis, :] # добавление оси axis0\n",
    "print(b)\n",
    "b.shape # (1, 9)"
   ]
  },
  {
   "cell_type": "markdown",
   "metadata": {},
   "source": [
    "Или, можно прописать сразу две оси: "
   ]
  },
  {
   "cell_type": "code",
   "execution_count": 44,
   "metadata": {},
   "outputs": [
    {
     "name": "stdout",
     "output_type": "stream",
     "text": [
      "[[[1]\n",
      "  [2]\n",
      "  [3]\n",
      "  [4]\n",
      "  [5]\n",
      "  [6]\n",
      "  [7]\n",
      "  [8]\n",
      "  [9]]]\n"
     ]
    },
    {
     "data": {
      "text/plain": [
       "(1, 9, 1)"
      ]
     },
     "execution_count": 44,
     "metadata": {},
     "output_type": "execute_result"
    }
   ],
   "source": [
    "c = a[np.newaxis, :, np.newaxis]\n",
    "print(c)\n",
    "c.shape # (1, 9, 1)"
   ]
  },
  {
   "cell_type": "markdown",
   "metadata": {},
   "source": [
    "# Базовые математические операции над массивами"
   ]
  },
  {
   "cell_type": "markdown",
   "metadata": {},
   "source": [
    "Предположим, имеется обычный список и массив, созданный на его основе:"
   ]
  },
  {
   "cell_type": "code",
   "execution_count": 45,
   "metadata": {},
   "outputs": [],
   "source": [
    "lst = [1, 2, 3]\n",
    "a = np.array([1, 2, 3])"
   ]
  },
  {
   "cell_type": "markdown",
   "metadata": {},
   "source": [
    "Сейчас вы увидите принципиальную разницу между двумя этими объектами. Умножим их на число 2: "
   ]
  },
  {
   "cell_type": "code",
   "execution_count": 46,
   "metadata": {},
   "outputs": [
    {
     "data": {
      "text/plain": [
       "array([2, 4, 6])"
      ]
     },
     "execution_count": 46,
     "metadata": {},
     "output_type": "execute_result"
    }
   ],
   "source": [
    "lst*2\n",
    "a*2"
   ]
  },
  {
   "cell_type": "markdown",
   "metadata": {},
   "source": [
    "Видите, при умножении списка языка Python, он дублируется дважды, а при умножении на NumPy массив – каждый его элемент умножается математически на число 2. Если бы мы захотели то же самое реализовать непосредственно на Python, оперируя списками, то пришлось бы делать что-то вроде:"
   ]
  },
  {
   "cell_type": "code",
   "execution_count": 47,
   "metadata": {},
   "outputs": [
    {
     "data": {
      "text/plain": [
       "[2, 4, 6]"
      ]
     },
     "execution_count": 47,
     "metadata": {},
     "output_type": "execute_result"
    }
   ],
   "source": [
    "[x*2 for x in lst]"
   ]
  },
  {
   "cell_type": "markdown",
   "metadata": {},
   "source": [
    "Но выполнялась бы такая конструкция дольше, чем в случае с массивом NumPy. Именно благодаря удобству и скорости библиотека NumPy и приобрела свою популярность."
   ]
  },
  {
   "cell_type": "markdown",
   "metadata": {},
   "source": [
    "Пусть у нас задан тот же одномерный массив: "
   ]
  },
  {
   "cell_type": "code",
   "execution_count": 48,
   "metadata": {},
   "outputs": [],
   "source": [
    "a = np.array([1, 2, 3])"
   ]
  },
  {
   "cell_type": "markdown",
   "metadata": {},
   "source": [
    "Все указанные в таблице операции выполняются следующим образом: "
   ]
  },
  {
   "cell_type": "code",
   "execution_count": 49,
   "metadata": {},
   "outputs": [
    {
     "name": "stdout",
     "output_type": "stream",
     "text": [
      "[-1 -2 -3]\n",
      "[3 4 5]\n",
      "[3 4 5]\n",
      "[-2 -1  0]\n",
      "[ 5 10 15]\n",
      "[0.2 0.4 0.6]\n",
      "[0 1 1]\n",
      "[ 1  8 27]\n",
      "[1 0 1]\n"
     ]
    }
   ],
   "source": [
    "print(-a) # унарный минус\n",
    "print(a + 2) # сложение с числом\n",
    "print(2 + a)  # так тоже можно записывать\n",
    "print(a - 3) # вычитание с числом\n",
    "print(a * 5) # умножение на число\n",
    "print(a / 5)  # деление на число\n",
    "print(a // 2)  # целочисленное деление\n",
    "print(a ** 3)  # возведение в степень 3\n",
    "print(a % 2)  # вычисление по модулю 2"
   ]
  },
  {
   "cell_type": "markdown",
   "metadata": {},
   "source": [
    "Приоритеты этих операций такие же, что и при обычных математических вычислениях. А на выходе мы получаем новый массив с соответствующими значениями.\n",
    "\n",
    "Давайте теперь добавим еще один массив: "
   ]
  },
  {
   "cell_type": "code",
   "execution_count": 50,
   "metadata": {},
   "outputs": [],
   "source": [
    "b = np.array([3, 4, 5])"
   ]
  },
  {
   "cell_type": "markdown",
   "metadata": {},
   "source": [
    "и посмотрим на эти же операции, но с участием двух массивов:"
   ]
  },
  {
   "cell_type": "code",
   "execution_count": 51,
   "metadata": {},
   "outputs": [
    {
     "name": "stdout",
     "output_type": "stream",
     "text": [
      "[-2 -2 -2]\n",
      "[4 6 8]\n",
      "[ 3  8 15]\n",
      "[3.         2.         1.66666667]\n",
      "[3 2 1]\n",
      "[  3  16 125]\n",
      "[0 0 2]\n"
     ]
    }
   ],
   "source": [
    "print(a - b)\n",
    "print(b + a)\n",
    "print(a * b)\n",
    "print(b / a)\n",
    "print(b // a)\n",
    "print(b ** a)\n",
    "print(b % a)"
   ]
  },
  {
   "cell_type": "markdown",
   "metadata": {},
   "source": [
    "Везде мы видим поэлементные операции. Соответственно, чтобы они выполнялись, массивы должны быть согласованы по длине. Например, если взять массив: "
   ]
  },
  {
   "cell_type": "code",
   "execution_count": 52,
   "metadata": {},
   "outputs": [],
   "source": [
    "b = np.array([3, 4, 5, 6])"
   ]
  },
  {
   "cell_type": "markdown",
   "metadata": {},
   "source": [
    "и выполнить операцию: "
   ]
  },
  {
   "cell_type": "code",
   "execution_count": 53,
   "metadata": {},
   "outputs": [
    {
     "ename": "ValueError",
     "evalue": "operands could not be broadcast together with shapes (3,) (4,) ",
     "output_type": "error",
     "traceback": [
      "\u001b[1;31m---------------------------------------------------------------------------\u001b[0m",
      "\u001b[1;31mValueError\u001b[0m                                Traceback (most recent call last)",
      "Input \u001b[1;32mIn [53]\u001b[0m, in \u001b[0;36m<cell line: 1>\u001b[1;34m()\u001b[0m\n\u001b[1;32m----> 1\u001b[0m \u001b[43ma\u001b[49m\u001b[43m \u001b[49m\u001b[38;5;241;43m+\u001b[39;49m\u001b[43m \u001b[49m\u001b[43mb\u001b[49m\n",
      "\u001b[1;31mValueError\u001b[0m: operands could not be broadcast together with shapes (3,) (4,) "
     ]
    }
   ],
   "source": [
    "a + b  # ошибка: длины массивов не совпадают"
   ]
  },
  {
   "cell_type": "markdown",
   "metadata": {},
   "source": [
    "то возникнет ошибка из-за несовпадения длин массивов. Но вот такая операция с двумерным массивом b сработает: "
   ]
  },
  {
   "cell_type": "code",
   "execution_count": 54,
   "metadata": {},
   "outputs": [
    {
     "data": {
      "text/plain": [
       "array([[2, 4, 6],\n",
       "       [5, 7, 9]])"
      ]
     },
     "execution_count": 54,
     "metadata": {},
     "output_type": "execute_result"
    }
   ],
   "source": [
    "b = np.arange(1, 7)\n",
    "b.resize(2, 3)\n",
    "a + b"
   ]
  },
  {
   "cell_type": "markdown",
   "metadata": {},
   "source": [
    "В этом случае массив a будет применен к каждой строке массива b. Такое поведение получило название транслирование массивов."
   ]
  },
  {
   "cell_type": "markdown",
   "metadata": {},
   "source": [
    "Все рассмотренные операции можно распространить и на многомерные массивы, главное, чтобы они были согласованы по размерам. Я приведу два небольших примера, так как думаю, общий принцип здесь понятен. Пусть у нас трехмерный и двумерный массивы: "
   ]
  },
  {
   "cell_type": "code",
   "execution_count": 55,
   "metadata": {},
   "outputs": [],
   "source": [
    "a = np.arange(1, 19)\n",
    "a.resize(3, 3, 2)\n",
    "b = np.ones((3, 2))"
   ]
  },
  {
   "cell_type": "markdown",
   "metadata": {},
   "source": [
    "С ними можно выполнять такие операции:"
   ]
  },
  {
   "cell_type": "code",
   "execution_count": 56,
   "metadata": {},
   "outputs": [
    {
     "name": "stdout",
     "output_type": "stream",
     "text": [
      "[[[ 0.  1.]\n",
      "  [ 2.  3.]\n",
      "  [ 4.  5.]]\n",
      "\n",
      " [[ 6.  7.]\n",
      "  [ 8.  9.]\n",
      "  [10. 11.]]\n",
      "\n",
      " [[12. 13.]\n",
      "  [14. 15.]\n",
      "  [16. 17.]]]\n",
      "[[[ 10  20]\n",
      "  [ 30  40]\n",
      "  [ 50  60]]\n",
      "\n",
      " [[ 70  80]\n",
      "  [ 90 100]\n",
      "  [110 120]]\n",
      "\n",
      " [[130 140]\n",
      "  [150 160]\n",
      "  [170 180]]]\n",
      "[[[ 1.  2.]\n",
      "  [ 3.  4.]\n",
      "  [ 5.  6.]]\n",
      "\n",
      " [[ 7.  8.]\n",
      "  [ 9. 10.]\n",
      "  [11. 12.]]\n",
      "\n",
      " [[13. 14.]\n",
      "  [15. 16.]\n",
      "  [17. 18.]]]\n"
     ]
    }
   ],
   "source": [
    "print(a - b)\n",
    "print(a * 10)\n",
    "print(a // b)"
   ]
  },
  {
   "cell_type": "markdown",
   "metadata": {},
   "source": [
    "Если нам нужно произвести какие-либо математические операции с массивом и изменения сохранить в нем же, то удобно использовать сокращенные записи."
   ]
  },
  {
   "cell_type": "code",
   "execution_count": 57,
   "metadata": {},
   "outputs": [],
   "source": [
    "a = np.array([1, 2, 6, 8])\n",
    "a += 5\n",
    "b = np.ones(4)\n",
    "b *= a"
   ]
  },
  {
   "cell_type": "markdown",
   "metadata": {},
   "source": [
    "# Элементы линейной алгебры"
   ]
  },
  {
   "cell_type": "markdown",
   "metadata": {},
   "source": [
    "**Упражнение 1**\n",
    "\n",
    "Создайте два вектора.\n",
    "\n",
    "Найдите в документации numpy функции **dot** и **inner** вычислите скалярное произведение векторов."
   ]
  },
  {
   "cell_type": "code",
   "execution_count": 60,
   "metadata": {},
   "outputs": [
    {
     "name": "stdout",
     "output_type": "stream",
     "text": [
      "-14\n",
      "-14\n"
     ]
    }
   ],
   "source": [
    "a = np.array([1, 2, 3])\n",
    "b = np.array([-1, -2, -3])\n",
    "\n",
    "print(np.dot(a, b))\n",
    "print(np.inner(a, b))"
   ]
  },
  {
   "cell_type": "markdown",
   "metadata": {},
   "source": [
    "**Упражнение 2**\n",
    "\n",
    "Создайте две матрицы (двумерных массива).\n",
    "\n",
    "Найдите в документации numpy функции **dot** и **matmul** и с помощью этих функций вычислите произведение двух матриц.\n",
    "\n",
    "Создайте диагональную единичную матрицу и выполните умножение одной из предыдущих матриц на единичную матрицу."
   ]
  },
  {
   "cell_type": "code",
   "execution_count": 62,
   "metadata": {},
   "outputs": [
    {
     "name": "stdout",
     "output_type": "stream",
     "text": [
      "[[29 15 19]\n",
      " [62 45 46]\n",
      " [95 75 73]]\n",
      "[[29 15 19]\n",
      " [62 45 46]\n",
      " [95 75 73]]\n",
      "[[1. 0. 0.]\n",
      " [0. 1. 0.]\n",
      " [0. 0. 1.]]\n",
      "[[1. 2. 3.]\n",
      " [4. 5. 6.]\n",
      " [7. 8. 9.]]\n",
      "[[1. 2. 3.]\n",
      " [4. 5. 6.]\n",
      " [7. 8. 9.]]\n"
     ]
    }
   ],
   "source": [
    "a = np.array([[1, 2, 3], [4, 5, 6], [7, 8, 9]])\n",
    "b = np.array([[0, 6, 1], [4, 3, 6], [7, 1, 2]])\n",
    "\n",
    "print(np.dot(a, b))\n",
    "print(np.matmul(a, b))\n",
    "\n",
    "E = np.eye(3)\n",
    "print(E)\n",
    "\n",
    "print(np.dot(a, E))\n",
    "print(np.matmul(a, E))"
   ]
  },
  {
   "cell_type": "markdown",
   "metadata": {},
   "source": [
    "Вычисление нормы вектора:"
   ]
  },
  {
   "cell_type": "code",
   "execution_count": 58,
   "metadata": {},
   "outputs": [
    {
     "data": {
      "text/plain": [
       "10.14889156509222"
      ]
     },
     "execution_count": 58,
     "metadata": {},
     "output_type": "execute_result"
    }
   ],
   "source": [
    "b = np.array([0, 2, 3, 4, 5, 7])\n",
    "d = np.linalg.norm(b)\n",
    "d"
   ]
  },
  {
   "cell_type": "markdown",
   "metadata": {},
   "source": [
    "**Упражнение 3**\n",
    "\n",
    "Вычислите норму матрицы с помощью функции **np.linalg.norm**."
   ]
  },
  {
   "cell_type": "code",
   "execution_count": 66,
   "metadata": {},
   "outputs": [
    {
     "name": "stdout",
     "output_type": "stream",
     "text": [
      "14.2828568570857\n"
     ]
    }
   ],
   "source": [
    "a = np.arange(0, 9, 1)\n",
    "a.shape = 3, 3\n",
    "\n",
    "d = np.linalg.norm(a)\n",
    "\n",
    "print(d)"
   ]
  },
  {
   "cell_type": "markdown",
   "metadata": {},
   "source": [
    "**Упражнение 4**\n",
    "\n",
    "Вычислите косинус угла между векторами: $\\normalsize cos\\alpha = \\frac{a*b}{\\|a\\|*\\|b\\|}$"
   ]
  },
  {
   "cell_type": "code",
   "execution_count": 68,
   "metadata": {},
   "outputs": [
    {
     "name": "stdout",
     "output_type": "stream",
     "text": [
      "1.0\n"
     ]
    }
   ],
   "source": [
    "a = np.array([1, 2, 3])\n",
    "b = np.array([3, 6, 9])\n",
    "\n",
    "c = np.dot(a, b)/(np.linalg.norm(a) * np.linalg.norm(b))\n",
    "\n",
    "print(c)"
   ]
  },
  {
   "cell_type": "markdown",
   "metadata": {},
   "source": [
    "____________________________________________________________________________________________________________________\n",
    "Вычисление определителя матрицы:"
   ]
  },
  {
   "cell_type": "code",
   "execution_count": 69,
   "metadata": {},
   "outputs": [
    {
     "name": "stdout",
     "output_type": "stream",
     "text": [
      "[[-4 -1  2]\n",
      " [10  4 -1]\n",
      " [ 8  3  1]]\n",
      "-14.000000000000009\n"
     ]
    }
   ],
   "source": [
    "A = np.matrix('-4 -1 2; 10 4 -1; 8 3 1') # еще один способ для создания матрицы\n",
    "print(A)\n",
    "d = np.linalg.det(A)\n",
    "print(d)"
   ]
  },
  {
   "cell_type": "markdown",
   "metadata": {},
   "source": [
    "**Упражнение 5**\n",
    "\n",
    "Транспонируйте матрицу, вычислите определитель. Отличается ли определитель транспонированной матрицы от определителя исходной матрицы?\n",
    "\n",
    "Замените одну из строк матрицы на строку из нулей, вычислите определитель матрицы.\n",
    "\n",
    "Создайте матрицу, у которой две строки переставлены местами по сравнению с исходной матрицей, вычислите определитель новой матрицы.\n",
    "\n",
    "Создайте матрицу с двумя одинаковыми строками, вычислите ее определитель.\n",
    "\n",
    "Умножьте одну из строк исходной матрицы на число, вычислите определитель.\n",
    "\n",
    "Прибавьте к элементам одной строки прибавить элементы другой строки, умноженные на одно и тоже число, вычтслите определитель."
   ]
  },
  {
   "cell_type": "code",
   "execution_count": 78,
   "metadata": {},
   "outputs": [
    {
     "name": "stdout",
     "output_type": "stream",
     "text": [
      "[[-4 -1  2]\n",
      " [10  4 -1]\n",
      " [ 8  3  1]]\n",
      "-14.000000000000009\n"
     ]
    }
   ],
   "source": [
    "A = np.matrix('-4 -1 2; 10 4 -1; 8 3 1')\n",
    "print(A)\n",
    "d = np.linalg.det(A)\n",
    "print(d)"
   ]
  },
  {
   "cell_type": "code",
   "execution_count": 79,
   "metadata": {},
   "outputs": [
    {
     "name": "stdout",
     "output_type": "stream",
     "text": [
      "[[-4 10  8]\n",
      " [-1  4  3]\n",
      " [ 2 -1  1]]\n",
      "-14.000000000000009\n"
     ]
    }
   ],
   "source": [
    "B = A.T\n",
    "print(B)\n",
    "print(np.linalg.det(A))"
   ]
  },
  {
   "cell_type": "code",
   "execution_count": 80,
   "metadata": {},
   "outputs": [
    {
     "name": "stdout",
     "output_type": "stream",
     "text": [
      "[[ 0  0  0]\n",
      " [10  4 -1]\n",
      " [ 8  3  1]]\n",
      "0.0\n"
     ]
    }
   ],
   "source": [
    "B = A.copy()\n",
    "B[0, :] = [0, 0, 0]\n",
    "print(B)\n",
    "print(np.linalg.det(B))"
   ]
  },
  {
   "cell_type": "code",
   "execution_count": 81,
   "metadata": {},
   "outputs": [
    {
     "name": "stdout",
     "output_type": "stream",
     "text": [
      "[[10  4 -1]\n",
      " [-4 -1  2]\n",
      " [ 8  3  1]]\n",
      "14.000000000000009\n"
     ]
    }
   ],
   "source": [
    "B = A.copy()\n",
    "B[0, :] = A[1, :]\n",
    "B[1, :] = A[0, :]\n",
    "print(B)\n",
    "print(np.linalg.det(B))"
   ]
  },
  {
   "cell_type": "code",
   "execution_count": 82,
   "metadata": {},
   "outputs": [
    {
     "name": "stdout",
     "output_type": "stream",
     "text": [
      "[[10  4 -1]\n",
      " [10  4 -1]\n",
      " [ 8  3  1]]\n",
      "0.0\n"
     ]
    }
   ],
   "source": [
    "B = A.copy()\n",
    "B[0, :] = B[1, :]\n",
    "print(B)\n",
    "print(np.linalg.det(B))"
   ]
  },
  {
   "cell_type": "code",
   "execution_count": 84,
   "metadata": {},
   "outputs": [
    {
     "name": "stdout",
     "output_type": "stream",
     "text": [
      "[[-8 -2  4]\n",
      " [10  4 -1]\n",
      " [ 8  3  1]]\n",
      "-28.00000000000002\n"
     ]
    }
   ],
   "source": [
    "B = A.copy()\n",
    "B[0, :] = 2 * B[0, :]\n",
    "print(B)\n",
    "print(np.linalg.det(B))"
   ]
  },
  {
   "cell_type": "markdown",
   "metadata": {},
   "source": [
    "\n",
    "# Построение графиков в matplotlib"
   ]
  },
  {
   "cell_type": "markdown",
   "metadata": {},
   "source": [
    "Построение графика по точкам:"
   ]
  },
  {
   "cell_type": "code",
   "execution_count": 85,
   "metadata": {},
   "outputs": [
    {
     "data": {
      "image/png": "[encoded data removed]",
      "text/plain": [
       "<Figure size 640x480 with 1 Axes>"
      ]
     },
     "metadata": {},
     "output_type": "display_data"
    }
   ],
   "source": [
    "import matplotlib.pyplot as plt\n",
    "plt.plot([1, 2, 3, 4, 5], [1, 2, 3, 4, 5])\n",
    "plt.show()"
   ]
  },
  {
   "cell_type": "markdown",
   "metadata": {},
   "source": [
    "Для начала построим линейную зависимость, дадим нашему графику название, подпишем оси и отобразим сетку:"
   ]
  },
  {
   "cell_type": "code",
   "execution_count": 86,
   "metadata": {},
   "outputs": [
    {
     "data": {
      "text/plain": [
       "[<matplotlib.lines.Line2D at 0x266cdda0c10>]"
      ]
     },
     "execution_count": 86,
     "metadata": {},
     "output_type": "execute_result"
    },
    {
     "data": {
      "image/png": "[encoded data removed]",
      "text/plain": [
       "<Figure size 640x480 with 1 Axes>"
      ]
     },
     "metadata": {},
     "output_type": "display_data"
    }
   ],
   "source": [
    "import numpy as np\n",
    "# Независимая (x) и зависимая (y) переменные\n",
    "x = np.linspace(0, 10, 50)\n",
    "y = x\n",
    "\n",
    "# Построение графика\n",
    "plt.title(\"Линейная зависимость y = x\") # заголовок\n",
    "plt.xlabel(\"x\") # ось абсцисс\n",
    "plt.ylabel(\"y\") # ось ординат\n",
    "plt.grid()      # включение отображение сетки\n",
    "plt.plot(x, y)  # построение графика"
   ]
  },
  {
   "cell_type": "markdown",
   "metadata": {},
   "source": [
    "Изменим тип линии и ее цвет, для этого в функцию plot(), в качестве третьего параметра передадим строку, сформированную определенным образом, в нашем случае это “r–”, где “r” означает красный цвет, а “–” – тип линии – пунктирная линия."
   ]
  },
  {
   "cell_type": "code",
   "execution_count": 87,
   "metadata": {},
   "outputs": [
    {
     "data": {
      "text/plain": [
       "[<matplotlib.lines.Line2D at 0x266cdf4c520>]"
      ]
     },
     "execution_count": 87,
     "metadata": {},
     "output_type": "execute_result"
    },
    {
     "data": {
      "image/png": "[encoded data removed]",
      "text/plain": [
       "<Figure size 640x480 with 1 Axes>"
      ]
     },
     "metadata": {},
     "output_type": "display_data"
    }
   ],
   "source": [
    "# Построение графика\n",
    "plt.title(\"Линейная зависимость y = x\") # заголовок\n",
    "plt.xlabel(\"x\") # ось абсцисс\n",
    "plt.ylabel(\"y\") # ось ординат\n",
    "plt.grid()      # включение отображение сетки\n",
    "plt.plot(x, y, \"r--\")  # построение графика"
   ]
  },
  {
   "cell_type": "markdown",
   "metadata": {},
   "source": [
    "**Несколько графиков на одном поле**\n",
    "\n",
    "Построим несколько графиков на одном поле, для этого добавим квадратичную зависимость:"
   ]
  },
  {
   "cell_type": "code",
   "execution_count": 88,
   "metadata": {},
   "outputs": [
    {
     "data": {
      "text/plain": [
       "[<matplotlib.lines.Line2D at 0x266cdf97df0>,\n",
       " <matplotlib.lines.Line2D at 0x266cdf97e50>]"
      ]
     },
     "execution_count": 88,
     "metadata": {},
     "output_type": "execute_result"
    },
    {
     "data": {
      "image/png": "[encoded data removed]",
      "text/plain": [
       "<Figure size 640x480 with 1 Axes>"
      ]
     },
     "metadata": {},
     "output_type": "display_data"
    }
   ],
   "source": [
    "# Линейная зависимость\n",
    "x = np.linspace(0, 10, 50)\n",
    "y1 = x\n",
    "# Квадратичная зависимость\n",
    "y2 = [i**2 for i in x]\n",
    "# Построение графика\n",
    "plt.title(\"Зависимости: y1 = x, y2 = x^2\") # заголовок\n",
    "plt.xlabel(\"x\")         # ось абсцисс\n",
    "plt.ylabel(\"y1, y2\")    # ось ординат\n",
    "plt.grid()              # включение отображение сетки\n",
    "plt.plot(x, y1, x, y2)  # построение графика"
   ]
  },
  {
   "cell_type": "markdown",
   "metadata": {},
   "source": [
    "В приведенном примере в функцию plot() последовательно передаются два массива для построения первого графика и два массива для построения второго, при этом, как вы можете заметить, для обоих графиков массив значений независимой переменной x один и то же."
   ]
  },
  {
   "cell_type": "markdown",
   "metadata": {},
   "source": [
    "**Несколько разделенных полей с графиками**\n",
    "\n",
    "Третья, довольно часто встречающаяся задача – это отобразить два или более различных поля, на которых будет отображено по одному или более графику.\n",
    "\n",
    "Построим уже известные нам две зависимость на разных полях."
   ]
  },
  {
   "cell_type": "code",
   "execution_count": 89,
   "metadata": {},
   "outputs": [
    {
     "data": {
      "image/png": "[encoded data removed]",
      "text/plain": [
       "<Figure size 900x900 with 2 Axes>"
      ]
     },
     "metadata": {},
     "output_type": "display_data"
    }
   ],
   "source": [
    "# Линейная зависимость\n",
    "x = np.linspace(0, 10, 50)\n",
    "y1 = x\n",
    "# Квадратичная зависимость\n",
    "y2 = [i**2 for i in x]\n",
    "# Построение графиков\n",
    "plt.figure(figsize=(9, 9))\n",
    "plt.subplot(2, 1, 1)\n",
    "plt.plot(x, y1)               # построение графика\n",
    "plt.title(\"Зависимости: y1 = x, y2 = x^2\") # заголовок\n",
    "plt.ylabel(\"y1\", fontsize=14) # ось ординат\n",
    "plt.grid(True)                # включение отображение сетки\n",
    "plt.subplot(2, 1, 2)\n",
    "plt.plot(x, y2)               # построение графика\n",
    "plt.xlabel(\"x\", fontsize=14)  # ось абсцисс\n",
    "plt.ylabel(\"y2\", fontsize=14) # ось ординат\n",
    "plt.grid(True)                # включение отображение сетки"
   ]
  },
  {
   "cell_type": "markdown",
   "metadata": {},
   "source": [
    "Здесь мы воспользовались новыми функциями: \n",
    "\n",
    "figure() – функция для задания глобальных параметров отображения графиков. В нее, в качестве аргумента, мы передаем кортеж, определяющий размер общего поля. \n",
    "\n",
    "subplot() – функция для задания местоположения поля с графиком. Существует несколько способов задания областей для вывода через функцию subplot() мы воспользовались следующим: первый аргумент – количество строк, второй – столбцов в формируемом поле, третий – индекс (номер поля, считаем сверху вниз, слева направо).\n",
    "\n",
    "Дополнительно мы использовали параметр fontsize для функций xlabel() и ylabel(), для задания размера шрифта."
   ]
  },
  {
   "cell_type": "markdown",
   "metadata": {},
   "source": [
    "**Точечная диаграмма (scatter plot)**"
   ]
  },
  {
   "cell_type": "code",
   "execution_count": 90,
   "metadata": {},
   "outputs": [
    {
     "name": "stdout",
     "output_type": "stream",
     "text": [
      "x [0.86199091 0.25804598 0.72101063 0.60078768 0.75803719 0.01327087\n",
      " 0.54518883 0.89955067 0.28832931 0.88350059 0.70719093 0.57491636\n",
      " 0.98083273 0.81647064 0.48536991 0.28089742 0.33610267 0.35091122\n",
      " 0.4139879  0.82473322 0.64926432 0.23866001 0.16471391 0.14393343\n",
      " 0.32521514 0.44071538 0.01850417 0.73584397 0.94455076 0.55821242\n",
      " 0.08356678 0.48619335 0.28453371 0.16815302 0.43085448 0.92850522\n",
      " 0.65325702 0.39544057 0.27826213 0.33651839 0.59932208 0.41464529\n",
      " 0.60696195 0.43142004 0.39210166 0.96983144 0.53960176 0.63692892\n",
      " 0.62266192 0.70495183]\n",
      "y [0.15994776 0.43604665 0.25648209 0.41411262 0.33670904 0.90813714\n",
      " 0.43813403 0.35068679 0.02995452 0.42382075 0.36790264 0.51739855\n",
      " 0.83780335 0.43576291 0.44920377 0.47301788 0.43638503 0.62842236\n",
      " 0.20148868 0.97057581 0.00587786 0.09286017 0.27676657 0.42725401\n",
      " 0.8692744  0.7008585  0.80759065 0.87067399 0.9047183  0.55589286\n",
      " 0.7982874  0.24161463 0.92743687 0.04635318 0.18572301 0.47799275\n",
      " 0.28316638 0.08583609 0.24307939 0.44733068 0.14918977 0.33862871\n",
      " 0.20015465 0.87599737 0.81335598 0.69470341 0.11894363 0.52311677\n",
      " 0.68706542 0.44185899]\n"
     ]
    },
    {
     "data": {
      "image/png": "[encoded data removed]",
      "text/plain": [
       "<Figure size 640x480 with 1 Axes>"
      ]
     },
     "metadata": {},
     "output_type": "display_data"
    }
   ],
   "source": [
    "import numpy as np\n",
    "import matplotlib.pyplot as plt\n",
    "\n",
    "\n",
    "N = 50\n",
    "x = np.random.rand(N) # случайный вектор из 50 элементов\n",
    "print(\"x\", x)\n",
    "y = np.random.rand(N) # случайный вектор из 50 элементов\n",
    "print(\"y\", y)\n",
    "colors = np.random.rand(N) # случайный вектор из 50 элементов, чтобы задавать цвета каждой из точек\n",
    "area = (30 * np.random.rand(N))**2 # случайные площади каждой из точек\n",
    "\n",
    "plt.scatter(x, y, s=area, c=colors, alpha=0.5) # нанесение точек на диаграмму, x и y - координаты\n",
    "                                               # area - площади точек, colors - цвета точек\n",
    "                                               # alpha - значение прозрачности точек\n",
    "plt.show()"
   ]
  },
  {
   "cell_type": "markdown",
   "metadata": {},
   "source": [
    "**Пример с вычислением числа $\\pi$ с помощью метода Монте Карло и визуализация результатов**"
   ]
  },
  {
   "cell_type": "markdown",
   "metadata": {},
   "source": [
    "Переключим режим отображения графиков в notebook:"
   ]
  },
  {
   "cell_type": "code",
   "execution_count": 1,
   "metadata": {},
   "outputs": [],
   "source": [
    "%matplotlib notebook"
   ]
  },
  {
   "cell_type": "code",
   "execution_count": 2,
   "metadata": {},
   "outputs": [],
   "source": [
    "import matplotlib.pyplot as plt\n",
    "import numpy as np\n",
    "from matplotlib.axes import Axes\n",
    "from scipy.stats import norm\n",
    "\n",
    "class PiAnimation:\n",
    "    def __init__(self, ax: Axes, ax_pi: Axes, ax_gaus: Axes):\n",
    "        self.inner = 0\n",
    "        self.out = 0\n",
    "\n",
    "        self.xi, self.yi = [], []\n",
    "        self.xo, self.yo = [], []\n",
    "\n",
    "        ax.set_xlim(-1.0, 1.5)\n",
    "        ax.set_ylim(-1.0, 1.5)\n",
    "        ax.axis(\"off\")\n",
    "        ax.add_artist(plt.Circle((0.0, 0.0), 1, fill=False))\n",
    "        ax.add_artist(plt.Rectangle((-1, -1), 2, 2, fill=False))\n",
    "\n",
    "        self.line_i = ax.plot(self.xi, self.yi, \"ro\")[0]\n",
    "        self.line_o = ax.plot(self.xo, self.yo, \"bo\")[0]\n",
    "        self.text = ax.text(0.3, 1.1, \"\", fontdict={\"fontsize\": 32})\n",
    "        self.text_n = ax.text(-0.9, 1.1, \"\", fontdict={\"fontsize\": 32})\n",
    "\n",
    "        self.ax_pi = ax_pi\n",
    "        self.pi = []\n",
    "        self.pi_line = ax_pi.plot([], self.pi,\"-\")[0]\n",
    "        ax_pi.set_ylim(0, 2*np.pi)\n",
    "\n",
    "        self.ax_gaus = ax_gaus\n",
    "        self.gauss_point = np.linspace(0.5*np.pi, 1.5 * np.pi, 200)\n",
    "        self.gauss = ax_gaus.plot(self.gauss_point, np.zeros(200), \"\")[0]\n",
    "\n",
    "    def __call__(self, n):\n",
    "        x, y = 2*(np.random.random_sample(2) - 0.5)\n",
    "        if x ** 2 + y ** 2 <= 1:\n",
    "            self.inner += 1\n",
    "            self.xi.append(x)\n",
    "            self.yi.append(y)\n",
    "            self.line_i.set_data(self.xi, self.yi)\n",
    "        else:\n",
    "            self.out +=1\n",
    "            self.xo.append(x)\n",
    "            self.yo.append(y)\n",
    "            self.line_o.set_data(self.xo, self.yo)\n",
    "        N = self.inner + self.out\n",
    "        prob = self.inner/N\n",
    "        pi = 4*prob\n",
    "        self.pi.append(pi)\n",
    "        self.text.set_text(r\"$\\pi = {:.5}$\".format(pi))\n",
    "        self.text_n.set_text(\"N = {:5d}   \".format(N))\n",
    "\n",
    "        self.pi_line.set_data(range(N), self.pi)\n",
    "        self.ax_pi.relim()\n",
    "        self.ax_pi.autoscale()\n",
    "\n",
    "        mean, var = np.mean(self.pi), np.var(self.pi)\n",
    "\n",
    "        if N > 3:\n",
    "            self.gauss.set_data(self.gauss_point, norm.pdf(self.gauss_point, loc = mean, scale = var))\n",
    "            self.ax_gaus.relim()\n",
    "            self.ax_gaus.autoscale()\n",
    "        return self.line_i, self.line_o, self.text, self.text_n, self.pi_line, self.gauss"
   ]
  },
  {
   "cell_type": "code",
   "execution_count": 3,
   "metadata": {},
   "outputs": [
    {
     "data": {
      "application/javascript": [
       "/* Put everything inside the global mpl namespace */\n",
       "/* global mpl */\n",
       "window.mpl = {};\n",
       "\n",
       "mpl.get_websocket_type = function () {\n",
       "    if (typeof WebSocket !== 'undefined') {\n",
       "        return WebSocket;\n",
       "    } else if (typeof MozWebSocket !== 'undefined') {\n",
       "        return MozWebSocket;\n",
       "    } else {\n",
       "        alert(\n",
       "            'Your browser does not have WebSocket support. ' +\n",
       "                'Please try Chrome, Safari or Firefox ≥ 6. ' +\n",
       "                'Firefox 4 and 5 are also supported but you ' +\n",
       "                'have to enable WebSockets in about:config.'\n",
       "        );\n",
       "    }\n",
       "};\n",
       "\n",
       "mpl.figure = function (figure_id, websocket, ondownload, parent_element) {\n",
       "    this.id = figure_id;\n",
       "\n",
       "    this.ws = websocket;\n",
       "\n",
       "    this.supports_binary = this.ws.binaryType !== undefined;\n",
       "\n",
       "    if (!this.supports_binary) {\n",
       "        var warnings = document.getElementById('mpl-warnings');\n",
       "        if (warnings) {\n",
       "            warnings.style.display = 'block';\n",
       "            warnings.textContent =\n",
       "                'This browser does not support binary websocket messages. ' +\n",
       "                'Performance may be slow.';\n",
       "        }\n",
       "    }\n",
       "\n",
       "    this.imageObj = new Image();\n",
       "\n",
       "    this.context = undefined;\n",
       "    this.message = undefined;\n",
       "    this.canvas = undefined;\n",
       "    this.rubberband_canvas = undefined;\n",
       "    this.rubberband_context = undefined;\n",
       "    this.format_dropdown = undefined;\n",
       "\n",
       "    this.image_mode = 'full';\n",
       "\n",
       "    this.root = document.createElement('div');\n",
       "    this.root.setAttribute('style', 'display: inline-block');\n",
       "    this._root_extra_style(this.root);\n",
       "\n",
       "    parent_element.appendChild(this.root);\n",
       "\n",
       "    this._init_header(this);\n",
       "    this._init_canvas(this);\n",
       "    this._init_toolbar(this);\n",
       "\n",
       "    var fig = this;\n",
       "\n",
       "    this.waiting = false;\n",
       "\n",
       "    this.ws.onopen = function () {\n",
       "        fig.send_message('supports_binary', { value: fig.supports_binary });\n",
       "        fig.send_message('send_image_mode', {});\n",
       "        if (fig.ratio !== 1) {\n",
       "            fig.send_message('set_device_pixel_ratio', {\n",
       "                device_pixel_ratio: fig.ratio,\n",
       "            });\n",
       "        }\n",
       "        fig.send_message('refresh', {});\n",
       "    };\n",
       "\n",
       "    this.imageObj.onload = function () {\n",
       "        if (fig.image_mode === 'full') {\n",
       "            // Full images could contain transparency (where diff images\n",
       "            // almost always do), so we need to clear the canvas so that\n",
       "            // there is no ghosting.\n",
       "            fig.context.clearRect(0, 0, fig.canvas.width, fig.canvas.height);\n",
       "        }\n",
       "        fig.context.drawImage(fig.imageObj, 0, 0);\n",
       "    };\n",
       "\n",
       "    this.imageObj.onunload = function () {\n",
       "        fig.ws.close();\n",
       "    };\n",
       "\n",
       "    this.ws.onmessage = this._make_on_message_function(this);\n",
       "\n",
       "    this.ondownload = ondownload;\n",
       "};\n",
       "\n",
       "mpl.figure.prototype._init_header = function () {\n",
       "    var titlebar = document.createElement('div');\n",
       "    titlebar.classList =\n",
       "        'ui-dialog-titlebar ui-widget-header ui-corner-all ui-helper-clearfix';\n",
       "    var titletext = document.createElement('div');\n",
       "    titletext.classList = 'ui-dialog-title';\n",
       "    titletext.setAttribute(\n",
       "        'style',\n",
       "        'width: 100%; text-align: center; padding: 3px;'\n",
       "    );\n",
       "    titlebar.appendChild(titletext);\n",
       "    this.root.appendChild(titlebar);\n",
       "    this.header = titletext;\n",
       "};\n",
       "\n",
       "mpl.figure.prototype._canvas_extra_style = function (_canvas_div) {};\n",
       "\n",
       "mpl.figure.prototype._root_extra_style = function (_canvas_div) {};\n",
       "\n",
       "mpl.figure.prototype._init_canvas = function () {\n",
       "    var fig = this;\n",
       "\n",
       "    var canvas_div = (this.canvas_div = document.createElement('div'));\n",
       "    canvas_div.setAttribute(\n",
       "        'style',\n",
       "        'border: 1px solid #ddd;' +\n",
       "            'box-sizing: content-box;' +\n",
       "            'clear: both;' +\n",
       "            'min-height: 1px;' +\n",
       "            'min-width: 1px;' +\n",
       "            'outline: 0;' +\n",
       "            'overflow: hidden;' +\n",
       "            'position: relative;' +\n",
       "            'resize: both;'\n",
       "    );\n",
       "\n",
       "    function on_keyboard_event_closure(name) {\n",
       "        return function (event) {\n",
       "            return fig.key_event(event, name);\n",
       "        };\n",
       "    }\n",
       "\n",
       "    canvas_div.addEventListener(\n",
       "        'keydown',\n",
       "        on_keyboard_event_closure('key_press')\n",
       "    );\n",
       "    canvas_div.addEventListener(\n",
       "        'keyup',\n",
       "        on_keyboard_event_closure('key_release')\n",
       "    );\n",
       "\n",
       "    this._canvas_extra_style(canvas_div);\n",
       "    this.root.appendChild(canvas_div);\n",
       "\n",
       "    var canvas = (this.canvas = document.createElement('canvas'));\n",
       "    canvas.classList.add('mpl-canvas');\n",
       "    canvas.setAttribute('style', 'box-sizing: content-box;');\n",
       "\n",
       "    this.context = canvas.getContext('2d');\n",
       "\n",
       "    var backingStore =\n",
       "        this.context.backingStorePixelRatio ||\n",
       "        this.context.webkitBackingStorePixelRatio ||\n",
       "        this.context.mozBackingStorePixelRatio ||\n",
       "        this.context.msBackingStorePixelRatio ||\n",
       "        this.context.oBackingStorePixelRatio ||\n",
       "        this.context.backingStorePixelRatio ||\n",
       "        1;\n",
       "\n",
       "    this.ratio = (window.devicePixelRatio || 1) / backingStore;\n",
       "\n",
       "    var rubberband_canvas = (this.rubberband_canvas = document.createElement(\n",
       "        'canvas'\n",
       "    ));\n",
       "    rubberband_canvas.setAttribute(\n",
       "        'style',\n",
       "        'box-sizing: content-box; position: absolute; left: 0; top: 0; z-index: 1;'\n",
       "    );\n",
       "\n",
       "    // Apply a ponyfill if ResizeObserver is not implemented by browser.\n",
       "    if (this.ResizeObserver === undefined) {\n",
       "        if (window.ResizeObserver !== undefined) {\n",
       "            this.ResizeObserver = window.ResizeObserver;\n",
       "        } else {\n",
       "            var obs = _JSXTOOLS_RESIZE_OBSERVER({});\n",
       "            this.ResizeObserver = obs.ResizeObserver;\n",
       "        }\n",
       "    }\n",
       "\n",
       "    this.resizeObserverInstance = new this.ResizeObserver(function (entries) {\n",
       "        var nentries = entries.length;\n",
       "        for (var i = 0; i < nentries; i++) {\n",
       "            var entry = entries[i];\n",
       "            var width, height;\n",
       "            if (entry.contentBoxSize) {\n",
       "                if (entry.contentBoxSize instanceof Array) {\n",
       "                    // Chrome 84 implements new version of spec.\n",
       "                    width = entry.contentBoxSize[0].inlineSize;\n",
       "                    height = entry.contentBoxSize[0].blockSize;\n",
       "                } else {\n",
       "                    // Firefox implements old version of spec.\n",
       "                    width = entry.contentBoxSize.inlineSize;\n",
       "                    height = entry.contentBoxSize.blockSize;\n",
       "                }\n",
       "            } else {\n",
       "                // Chrome <84 implements even older version of spec.\n",
       "                width = entry.contentRect.width;\n",
       "                height = entry.contentRect.height;\n",
       "            }\n",
       "\n",
       "            // Keep the size of the canvas and rubber band canvas in sync with\n",
       "            // the canvas container.\n",
       "            if (entry.devicePixelContentBoxSize) {\n",
       "                // Chrome 84 implements new version of spec.\n",
       "                canvas.setAttribute(\n",
       "                    'width',\n",
       "                    entry.devicePixelContentBoxSize[0].inlineSize\n",
       "                );\n",
       "                canvas.setAttribute(\n",
       "                    'height',\n",
       "                    entry.devicePixelContentBoxSize[0].blockSize\n",
       "                );\n",
       "            } else {\n",
       "                canvas.setAttribute('width', width * fig.ratio);\n",
       "                canvas.setAttribute('height', height * fig.ratio);\n",
       "            }\n",
       "            canvas.setAttribute(\n",
       "                'style',\n",
       "                'width: ' + width + 'px; height: ' + height + 'px;'\n",
       "            );\n",
       "\n",
       "            rubberband_canvas.setAttribute('width', width);\n",
       "            rubberband_canvas.setAttribute('height', height);\n",
       "\n",
       "            // And update the size in Python. We ignore the initial 0/0 size\n",
       "            // that occurs as the element is placed into the DOM, which should\n",
       "            // otherwise not happen due to the minimum size styling.\n",
       "            if (fig.ws.readyState == 1 && width != 0 && height != 0) {\n",
       "                fig.request_resize(width, height);\n",
       "            }\n",
       "        }\n",
       "    });\n",
       "    this.resizeObserverInstance.observe(canvas_div);\n",
       "\n",
       "    function on_mouse_event_closure(name) {\n",
       "        return function (event) {\n",
       "            return fig.mouse_event(event, name);\n",
       "        };\n",
       "    }\n",
       "\n",
       "    rubberband_canvas.addEventListener(\n",
       "        'mousedown',\n",
       "        on_mouse_event_closure('button_press')\n",
       "    );\n",
       "    rubberband_canvas.addEventListener(\n",
       "        'mouseup',\n",
       "        on_mouse_event_closure('button_release')\n",
       "    );\n",
       "    rubberband_canvas.addEventListener(\n",
       "        'dblclick',\n",
       "        on_mouse_event_closure('dblclick')\n",
       "    );\n",
       "    // Throttle sequential mouse events to 1 every 20ms.\n",
       "    rubberband_canvas.addEventListener(\n",
       "        'mousemove',\n",
       "        on_mouse_event_closure('motion_notify')\n",
       "    );\n",
       "\n",
       "    rubberband_canvas.addEventListener(\n",
       "        'mouseenter',\n",
       "        on_mouse_event_closure('figure_enter')\n",
       "    );\n",
       "    rubberband_canvas.addEventListener(\n",
       "        'mouseleave',\n",
       "        on_mouse_event_closure('figure_leave')\n",
       "    );\n",
       "\n",
       "    canvas_div.addEventListener('wheel', function (event) {\n",
       "        if (event.deltaY < 0) {\n",
       "            event.step = 1;\n",
       "        } else {\n",
       "            event.step = -1;\n",
       "        }\n",
       "        on_mouse_event_closure('scroll')(event);\n",
       "    });\n",
       "\n",
       "    canvas_div.appendChild(canvas);\n",
       "    canvas_div.appendChild(rubberband_canvas);\n",
       "\n",
       "    this.rubberband_context = rubberband_canvas.getContext('2d');\n",
       "    this.rubberband_context.strokeStyle = '#000000';\n",
       "\n",
       "    this._resize_canvas = function (width, height, forward) {\n",
       "        if (forward) {\n",
       "            canvas_div.style.width = width + 'px';\n",
       "            canvas_div.style.height = height + 'px';\n",
       "        }\n",
       "    };\n",
       "\n",
       "    // Disable right mouse context menu.\n",
       "    this.rubberband_canvas.addEventListener('contextmenu', function (_e) {\n",
       "        event.preventDefault();\n",
       "        return false;\n",
       "    });\n",
       "\n",
       "    function set_focus() {\n",
       "        canvas.focus();\n",
       "        canvas_div.focus();\n",
       "    }\n",
       "\n",
       "    window.setTimeout(set_focus, 100);\n",
       "};\n",
       "\n",
       "mpl.figure.prototype._init_toolbar = function () {\n",
       "    var fig = this;\n",
       "\n",
       "    var toolbar = document.createElement('div');\n",
       "    toolbar.classList = 'mpl-toolbar';\n",
       "    this.root.appendChild(toolbar);\n",
       "\n",
       "    function on_click_closure(name) {\n",
       "        return function (_event) {\n",
       "            return fig.toolbar_button_onclick(name);\n",
       "        };\n",
       "    }\n",
       "\n",
       "    function on_mouseover_closure(tooltip) {\n",
       "        return function (event) {\n",
       "            if (!event.currentTarget.disabled) {\n",
       "                return fig.toolbar_button_onmouseover(tooltip);\n",
       "            }\n",
       "        };\n",
       "    }\n",
       "\n",
       "    fig.buttons = {};\n",
       "    var buttonGroup = document.createElement('div');\n",
       "    buttonGroup.classList = 'mpl-button-group';\n",
       "    for (var toolbar_ind in mpl.toolbar_items) {\n",
       "        var name = mpl.toolbar_items[toolbar_ind][0];\n",
       "        var tooltip = mpl.toolbar_items[toolbar_ind][1];\n",
       "        var image = mpl.toolbar_items[toolbar_ind][2];\n",
       "        var method_name = mpl.toolbar_items[toolbar_ind][3];\n",
       "\n",
       "        if (!name) {\n",
       "            /* Instead of a spacer, we start a new button group. */\n",
       "            if (buttonGroup.hasChildNodes()) {\n",
       "                toolbar.appendChild(buttonGroup);\n",
       "            }\n",
       "            buttonGroup = document.createElement('div');\n",
       "            buttonGroup.classList = 'mpl-button-group';\n",
       "            continue;\n",
       "        }\n",
       "\n",
       "        var button = (fig.buttons[name] = document.createElement('button'));\n",
       "        button.classList = 'mpl-widget';\n",
       "        button.setAttribute('role', 'button');\n",
       "        button.setAttribute('aria-disabled', 'false');\n",
       "        button.addEventListener('click', on_click_closure(method_name));\n",
       "        button.addEventListener('mouseover', on_mouseover_closure(tooltip));\n",
       "\n",
       "        var icon_img = document.createElement('img');\n",
       "        icon_img.src = '_images/' + image + '.png';\n",
       "        icon_img.srcset = '_images/' + image + '_large.png 2x';\n",
       "        icon_img.alt = tooltip;\n",
       "        button.appendChild(icon_img);\n",
       "\n",
       "        buttonGroup.appendChild(button);\n",
       "    }\n",
       "\n",
       "    if (buttonGroup.hasChildNodes()) {\n",
       "        toolbar.appendChild(buttonGroup);\n",
       "    }\n",
       "\n",
       "    var fmt_picker = document.createElement('select');\n",
       "    fmt_picker.classList = 'mpl-widget';\n",
       "    toolbar.appendChild(fmt_picker);\n",
       "    this.format_dropdown = fmt_picker;\n",
       "\n",
       "    for (var ind in mpl.extensions) {\n",
       "        var fmt = mpl.extensions[ind];\n",
       "        var option = document.createElement('option');\n",
       "        option.selected = fmt === mpl.default_extension;\n",
       "        option.innerHTML = fmt;\n",
       "        fmt_picker.appendChild(option);\n",
       "    }\n",
       "\n",
       "    var status_bar = document.createElement('span');\n",
       "    status_bar.classList = 'mpl-message';\n",
       "    toolbar.appendChild(status_bar);\n",
       "    this.message = status_bar;\n",
       "};\n",
       "\n",
       "mpl.figure.prototype.request_resize = function (x_pixels, y_pixels) {\n",
       "    // Request matplotlib to resize the figure. Matplotlib will then trigger a resize in the client,\n",
       "    // which will in turn request a refresh of the image.\n",
       "    this.send_message('resize', { width: x_pixels, height: y_pixels });\n",
       "};\n",
       "\n",
       "mpl.figure.prototype.send_message = function (type, properties) {\n",
       "    properties['type'] = type;\n",
       "    properties['figure_id'] = this.id;\n",
       "    this.ws.send(JSON.stringify(properties));\n",
       "};\n",
       "\n",
       "mpl.figure.prototype.send_draw_message = function () {\n",
       "    if (!this.waiting) {\n",
       "        this.waiting = true;\n",
       "        this.ws.send(JSON.stringify({ type: 'draw', figure_id: this.id }));\n",
       "    }\n",
       "};\n",
       "\n",
       "mpl.figure.prototype.handle_save = function (fig, _msg) {\n",
       "    var format_dropdown = fig.format_dropdown;\n",
       "    var format = format_dropdown.options[format_dropdown.selectedIndex].value;\n",
       "    fig.ondownload(fig, format);\n",
       "};\n",
       "\n",
       "mpl.figure.prototype.handle_resize = function (fig, msg) {\n",
       "    var size = msg['size'];\n",
       "    if (size[0] !== fig.canvas.width || size[1] !== fig.canvas.height) {\n",
       "        fig._resize_canvas(size[0], size[1], msg['forward']);\n",
       "        fig.send_message('refresh', {});\n",
       "    }\n",
       "};\n",
       "\n",
       "mpl.figure.prototype.handle_rubberband = function (fig, msg) {\n",
       "    var x0 = msg['x0'] / fig.ratio;\n",
       "    var y0 = (fig.canvas.height - msg['y0']) / fig.ratio;\n",
       "    var x1 = msg['x1'] / fig.ratio;\n",
       "    var y1 = (fig.canvas.height - msg['y1']) / fig.ratio;\n",
       "    x0 = Math.floor(x0) + 0.5;\n",
       "    y0 = Math.floor(y0) + 0.5;\n",
       "    x1 = Math.floor(x1) + 0.5;\n",
       "    y1 = Math.floor(y1) + 0.5;\n",
       "    var min_x = Math.min(x0, x1);\n",
       "    var min_y = Math.min(y0, y1);\n",
       "    var width = Math.abs(x1 - x0);\n",
       "    var height = Math.abs(y1 - y0);\n",
       "\n",
       "    fig.rubberband_context.clearRect(\n",
       "        0,\n",
       "        0,\n",
       "        fig.canvas.width / fig.ratio,\n",
       "        fig.canvas.height / fig.ratio\n",
       "    );\n",
       "\n",
       "    fig.rubberband_context.strokeRect(min_x, min_y, width, height);\n",
       "};\n",
       "\n",
       "mpl.figure.prototype.handle_figure_label = function (fig, msg) {\n",
       "    // Updates the figure title.\n",
       "    fig.header.textContent = msg['label'];\n",
       "};\n",
       "\n",
       "mpl.figure.prototype.handle_cursor = function (fig, msg) {\n",
       "    fig.rubberband_canvas.style.cursor = msg['cursor'];\n",
       "};\n",
       "\n",
       "mpl.figure.prototype.handle_message = function (fig, msg) {\n",
       "    fig.message.textContent = msg['message'];\n",
       "};\n",
       "\n",
       "mpl.figure.prototype.handle_draw = function (fig, _msg) {\n",
       "    // Request the server to send over a new figure.\n",
       "    fig.send_draw_message();\n",
       "};\n",
       "\n",
       "mpl.figure.prototype.handle_image_mode = function (fig, msg) {\n",
       "    fig.image_mode = msg['mode'];\n",
       "};\n",
       "\n",
       "mpl.figure.prototype.handle_history_buttons = function (fig, msg) {\n",
       "    for (var key in msg) {\n",
       "        if (!(key in fig.buttons)) {\n",
       "            continue;\n",
       "        }\n",
       "        fig.buttons[key].disabled = !msg[key];\n",
       "        fig.buttons[key].setAttribute('aria-disabled', !msg[key]);\n",
       "    }\n",
       "};\n",
       "\n",
       "mpl.figure.prototype.handle_navigate_mode = function (fig, msg) {\n",
       "    if (msg['mode'] === 'PAN') {\n",
       "        fig.buttons['Pan'].classList.add('active');\n",
       "        fig.buttons['Zoom'].classList.remove('active');\n",
       "    } else if (msg['mode'] === 'ZOOM') {\n",
       "        fig.buttons['Pan'].classList.remove('active');\n",
       "        fig.buttons['Zoom'].classList.add('active');\n",
       "    } else {\n",
       "        fig.buttons['Pan'].classList.remove('active');\n",
       "        fig.buttons['Zoom'].classList.remove('active');\n",
       "    }\n",
       "};\n",
       "\n",
       "mpl.figure.prototype.updated_canvas_event = function () {\n",
       "    // Called whenever the canvas gets updated.\n",
       "    this.send_message('ack', {});\n",
       "};\n",
       "\n",
       "// A function to construct a web socket function for onmessage handling.\n",
       "// Called in the figure constructor.\n",
       "mpl.figure.prototype._make_on_message_function = function (fig) {\n",
       "    return function socket_on_message(evt) {\n",
       "        if (evt.data instanceof Blob) {\n",
       "            var img = evt.data;\n",
       "            if (img.type !== 'image/png') {\n",
       "                /* FIXME: We get \"Resource interpreted as Image but\n",
       "                 * transferred with MIME type text/plain:\" errors on\n",
       "                 * Chrome.  But how to set the MIME type?  It doesn't seem\n",
       "                 * to be part of the websocket stream */\n",
       "                img.type = 'image/png';\n",
       "            }\n",
       "\n",
       "            /* Free the memory for the previous frames */\n",
       "            if (fig.imageObj.src) {\n",
       "                (window.URL || window.webkitURL).revokeObjectURL(\n",
       "                    fig.imageObj.src\n",
       "                );\n",
       "            }\n",
       "\n",
       "            fig.imageObj.src = (window.URL || window.webkitURL).createObjectURL(\n",
       "                img\n",
       "            );\n",
       "            fig.updated_canvas_event();\n",
       "            fig.waiting = false;\n",
       "            return;\n",
       "        } else if (\n",
       "            typeof evt.data === 'string' &&\n",
       "            evt.data.slice(0, 21) === 'data:image/png;base64'\n",
       "        ) {\n",
       "            fig.imageObj.src = evt.data;\n",
       "            fig.updated_canvas_event();\n",
       "            fig.waiting = false;\n",
       "            return;\n",
       "        }\n",
       "\n",
       "        var msg = JSON.parse(evt.data);\n",
       "        var msg_type = msg['type'];\n",
       "\n",
       "        // Call the  \"handle_{type}\" callback, which takes\n",
       "        // the figure and JSON message as its only arguments.\n",
       "        try {\n",
       "            var callback = fig['handle_' + msg_type];\n",
       "        } catch (e) {\n",
       "            console.log(\n",
       "                \"No handler for the '\" + msg_type + \"' message type: \",\n",
       "                msg\n",
       "            );\n",
       "            return;\n",
       "        }\n",
       "\n",
       "        if (callback) {\n",
       "            try {\n",
       "                // console.log(\"Handling '\" + msg_type + \"' message: \", msg);\n",
       "                callback(fig, msg);\n",
       "            } catch (e) {\n",
       "                console.log(\n",
       "                    \"Exception inside the 'handler_\" + msg_type + \"' callback:\",\n",
       "                    e,\n",
       "                    e.stack,\n",
       "                    msg\n",
       "                );\n",
       "            }\n",
       "        }\n",
       "    };\n",
       "};\n",
       "\n",
       "// from https://stackoverflow.com/questions/1114465/getting-mouse-location-in-canvas\n",
       "mpl.findpos = function (e) {\n",
       "    //this section is from http://www.quirksmode.org/js/events_properties.html\n",
       "    var targ;\n",
       "    if (!e) {\n",
       "        e = window.event;\n",
       "    }\n",
       "    if (e.target) {\n",
       "        targ = e.target;\n",
       "    } else if (e.srcElement) {\n",
       "        targ = e.srcElement;\n",
       "    }\n",
       "    if (targ.nodeType === 3) {\n",
       "        // defeat Safari bug\n",
       "        targ = targ.parentNode;\n",
       "    }\n",
       "\n",
       "    // pageX,Y are the mouse positions relative to the document\n",
       "    var boundingRect = targ.getBoundingClientRect();\n",
       "    var x = e.pageX - (boundingRect.left + document.body.scrollLeft);\n",
       "    var y = e.pageY - (boundingRect.top + document.body.scrollTop);\n",
       "\n",
       "    return { x: x, y: y };\n",
       "};\n",
       "\n",
       "/*\n",
       " * return a copy of an object with only non-object keys\n",
       " * we need this to avoid circular references\n",
       " * https://stackoverflow.com/a/24161582/3208463\n",
       " */\n",
       "function simpleKeys(original) {\n",
       "    return Object.keys(original).reduce(function (obj, key) {\n",
       "        if (typeof original[key] !== 'object') {\n",
       "            obj[key] = original[key];\n",
       "        }\n",
       "        return obj;\n",
       "    }, {});\n",
       "}\n",
       "\n",
       "mpl.figure.prototype.mouse_event = function (event, name) {\n",
       "    var canvas_pos = mpl.findpos(event);\n",
       "\n",
       "    if (name === 'button_press') {\n",
       "        this.canvas.focus();\n",
       "        this.canvas_div.focus();\n",
       "    }\n",
       "\n",
       "    var x = canvas_pos.x * this.ratio;\n",
       "    var y = canvas_pos.y * this.ratio;\n",
       "\n",
       "    this.send_message(name, {\n",
       "        x: x,\n",
       "        y: y,\n",
       "        button: event.button,\n",
       "        step: event.step,\n",
       "        guiEvent: simpleKeys(event),\n",
       "    });\n",
       "\n",
       "    /* This prevents the web browser from automatically changing to\n",
       "     * the text insertion cursor when the button is pressed.  We want\n",
       "     * to control all of the cursor setting manually through the\n",
       "     * 'cursor' event from matplotlib */\n",
       "    event.preventDefault();\n",
       "    return false;\n",
       "};\n",
       "\n",
       "mpl.figure.prototype._key_event_extra = function (_event, _name) {\n",
       "    // Handle any extra behaviour associated with a key event\n",
       "};\n",
       "\n",
       "mpl.figure.prototype.key_event = function (event, name) {\n",
       "    // Prevent repeat events\n",
       "    if (name === 'key_press') {\n",
       "        if (event.key === this._key) {\n",
       "            return;\n",
       "        } else {\n",
       "            this._key = event.key;\n",
       "        }\n",
       "    }\n",
       "    if (name === 'key_release') {\n",
       "        this._key = null;\n",
       "    }\n",
       "\n",
       "    var value = '';\n",
       "    if (event.ctrlKey && event.key !== 'Control') {\n",
       "        value += 'ctrl+';\n",
       "    }\n",
       "    else if (event.altKey && event.key !== 'Alt') {\n",
       "        value += 'alt+';\n",
       "    }\n",
       "    else if (event.shiftKey && event.key !== 'Shift') {\n",
       "        value += 'shift+';\n",
       "    }\n",
       "\n",
       "    value += 'k' + event.key;\n",
       "\n",
       "    this._key_event_extra(event, name);\n",
       "\n",
       "    this.send_message(name, { key: value, guiEvent: simpleKeys(event) });\n",
       "    return false;\n",
       "};\n",
       "\n",
       "mpl.figure.prototype.toolbar_button_onclick = function (name) {\n",
       "    if (name === 'download') {\n",
       "        this.handle_save(this, null);\n",
       "    } else {\n",
       "        this.send_message('toolbar_button', { name: name });\n",
       "    }\n",
       "};\n",
       "\n",
       "mpl.figure.prototype.toolbar_button_onmouseover = function (tooltip) {\n",
       "    this.message.textContent = tooltip;\n",
       "};\n",
       "\n",
       "///////////////// REMAINING CONTENT GENERATED BY embed_js.py /////////////////\n",
       "// prettier-ignore\n",
       "var _JSXTOOLS_RESIZE_OBSERVER=function(A){var t,i=new WeakMap,n=new WeakMap,a=new WeakMap,r=new WeakMap,o=new Set;function s(e){if(!(this instanceof s))throw new TypeError(\"Constructor requires 'new' operator\");i.set(this,e)}function h(){throw new TypeError(\"Function is not a constructor\")}function c(e,t,i,n){e=0 in arguments?Number(arguments[0]):0,t=1 in arguments?Number(arguments[1]):0,i=2 in arguments?Number(arguments[2]):0,n=3 in arguments?Number(arguments[3]):0,this.right=(this.x=this.left=e)+(this.width=i),this.bottom=(this.y=this.top=t)+(this.height=n),Object.freeze(this)}function d(){t=requestAnimationFrame(d);var s=new WeakMap,p=new Set;o.forEach((function(t){r.get(t).forEach((function(i){var r=t instanceof window.SVGElement,o=a.get(t),d=r?0:parseFloat(o.paddingTop),f=r?0:parseFloat(o.paddingRight),l=r?0:parseFloat(o.paddingBottom),u=r?0:parseFloat(o.paddingLeft),g=r?0:parseFloat(o.borderTopWidth),m=r?0:parseFloat(o.borderRightWidth),w=r?0:parseFloat(o.borderBottomWidth),b=u+f,F=d+l,v=(r?0:parseFloat(o.borderLeftWidth))+m,W=g+w,y=r?0:t.offsetHeight-W-t.clientHeight,E=r?0:t.offsetWidth-v-t.clientWidth,R=b+v,z=F+W,M=r?t.width:parseFloat(o.width)-R-E,O=r?t.height:parseFloat(o.height)-z-y;if(n.has(t)){var k=n.get(t);if(k[0]===M&&k[1]===O)return}n.set(t,[M,O]);var S=Object.create(h.prototype);S.target=t,S.contentRect=new c(u,d,M,O),s.has(i)||(s.set(i,[]),p.add(i)),s.get(i).push(S)}))})),p.forEach((function(e){i.get(e).call(e,s.get(e),e)}))}return s.prototype.observe=function(i){if(i instanceof window.Element){r.has(i)||(r.set(i,new Set),o.add(i),a.set(i,window.getComputedStyle(i)));var n=r.get(i);n.has(this)||n.add(this),cancelAnimationFrame(t),t=requestAnimationFrame(d)}},s.prototype.unobserve=function(i){if(i instanceof window.Element&&r.has(i)){var n=r.get(i);n.has(this)&&(n.delete(this),n.size||(r.delete(i),o.delete(i))),n.size||r.delete(i),o.size||cancelAnimationFrame(t)}},A.DOMRectReadOnly=c,A.ResizeObserver=s,A.ResizeObserverEntry=h,A}; // eslint-disable-line\n",
       "mpl.toolbar_items = [[\"Home\", \"Reset original view\", \"fa fa-home icon-home\", \"home\"], [\"Back\", \"Back to previous view\", \"fa fa-arrow-left icon-arrow-left\", \"back\"], [\"Forward\", \"Forward to next view\", \"fa fa-arrow-right icon-arrow-right\", \"forward\"], [\"\", \"\", \"\", \"\"], [\"Pan\", \"Left button pans, Right button zooms\\nx/y fixes axis, CTRL fixes aspect\", \"fa fa-arrows icon-move\", \"pan\"], [\"Zoom\", \"Zoom to rectangle\\nx/y fixes axis\", \"fa fa-square-o icon-check-empty\", \"zoom\"], [\"\", \"\", \"\", \"\"], [\"Download\", \"Download plot\", \"fa fa-floppy-o icon-save\", \"download\"]];\n",
       "\n",
       "mpl.extensions = [\"eps\", \"jpeg\", \"pgf\", \"pdf\", \"png\", \"ps\", \"raw\", \"svg\", \"tif\"];\n",
       "\n",
       "mpl.default_extension = \"png\";/* global mpl */\n",
       "\n",
       "var comm_websocket_adapter = function (comm) {\n",
       "    // Create a \"websocket\"-like object which calls the given IPython comm\n",
       "    // object with the appropriate methods. Currently this is a non binary\n",
       "    // socket, so there is still some room for performance tuning.\n",
       "    var ws = {};\n",
       "\n",
       "    ws.binaryType = comm.kernel.ws.binaryType;\n",
       "    ws.readyState = comm.kernel.ws.readyState;\n",
       "    function updateReadyState(_event) {\n",
       "        if (comm.kernel.ws) {\n",
       "            ws.readyState = comm.kernel.ws.readyState;\n",
       "        } else {\n",
       "            ws.readyState = 3; // Closed state.\n",
       "        }\n",
       "    }\n",
       "    comm.kernel.ws.addEventListener('open', updateReadyState);\n",
       "    comm.kernel.ws.addEventListener('close', updateReadyState);\n",
       "    comm.kernel.ws.addEventListener('error', updateReadyState);\n",
       "\n",
       "    ws.close = function () {\n",
       "        comm.close();\n",
       "    };\n",
       "    ws.send = function (m) {\n",
       "        //console.log('sending', m);\n",
       "        comm.send(m);\n",
       "    };\n",
       "    // Register the callback with on_msg.\n",
       "    comm.on_msg(function (msg) {\n",
       "        //console.log('receiving', msg['content']['data'], msg);\n",
       "        var data = msg['content']['data'];\n",
       "        if (data['blob'] !== undefined) {\n",
       "            data = {\n",
       "                data: new Blob(msg['buffers'], { type: data['blob'] }),\n",
       "            };\n",
       "        }\n",
       "        // Pass the mpl event to the overridden (by mpl) onmessage function.\n",
       "        ws.onmessage(data);\n",
       "    });\n",
       "    return ws;\n",
       "};\n",
       "\n",
       "mpl.mpl_figure_comm = function (comm, msg) {\n",
       "    // This is the function which gets called when the mpl process\n",
       "    // starts-up an IPython Comm through the \"matplotlib\" channel.\n",
       "\n",
       "    var id = msg.content.data.id;\n",
       "    // Get hold of the div created by the display call when the Comm\n",
       "    // socket was opened in Python.\n",
       "    var element = document.getElementById(id);\n",
       "    var ws_proxy = comm_websocket_adapter(comm);\n",
       "\n",
       "    function ondownload(figure, _format) {\n",
       "        window.open(figure.canvas.toDataURL());\n",
       "    }\n",
       "\n",
       "    var fig = new mpl.figure(id, ws_proxy, ondownload, element);\n",
       "\n",
       "    // Call onopen now - mpl needs it, as it is assuming we've passed it a real\n",
       "    // web socket which is closed, not our websocket->open comm proxy.\n",
       "    ws_proxy.onopen();\n",
       "\n",
       "    fig.parent_element = element;\n",
       "    fig.cell_info = mpl.find_output_cell(\"<div id='\" + id + \"'></div>\");\n",
       "    if (!fig.cell_info) {\n",
       "        console.error('Failed to find cell for figure', id, fig);\n",
       "        return;\n",
       "    }\n",
       "    fig.cell_info[0].output_area.element.on(\n",
       "        'cleared',\n",
       "        { fig: fig },\n",
       "        fig._remove_fig_handler\n",
       "    );\n",
       "};\n",
       "\n",
       "mpl.figure.prototype.handle_close = function (fig, msg) {\n",
       "    var width = fig.canvas.width / fig.ratio;\n",
       "    fig.cell_info[0].output_area.element.off(\n",
       "        'cleared',\n",
       "        fig._remove_fig_handler\n",
       "    );\n",
       "    fig.resizeObserverInstance.unobserve(fig.canvas_div);\n",
       "\n",
       "    // Update the output cell to use the data from the current canvas.\n",
       "    fig.push_to_output();\n",
       "    var dataURL = fig.canvas.toDataURL();\n",
       "    // Re-enable the keyboard manager in IPython - without this line, in FF,\n",
       "    // the notebook keyboard shortcuts fail.\n",
       "    IPython.keyboard_manager.enable();\n",
       "    fig.parent_element.innerHTML =\n",
       "        '<img src=\"' + dataURL + '\" width=\"' + width + '\">';\n",
       "    fig.close_ws(fig, msg);\n",
       "};\n",
       "\n",
       "mpl.figure.prototype.close_ws = function (fig, msg) {\n",
       "    fig.send_message('closing', msg);\n",
       "    // fig.ws.close()\n",
       "};\n",
       "\n",
       "mpl.figure.prototype.push_to_output = function (_remove_interactive) {\n",
       "    // Turn the data on the canvas into data in the output cell.\n",
       "    var width = this.canvas.width / this.ratio;\n",
       "    var dataURL = this.canvas.toDataURL();\n",
       "    this.cell_info[1]['text/html'] =\n",
       "        '<img src=\"' + dataURL + '\" width=\"' + width + '\">';\n",
       "};\n",
       "\n",
       "mpl.figure.prototype.updated_canvas_event = function () {\n",
       "    // Tell IPython that the notebook contents must change.\n",
       "    IPython.notebook.set_dirty(true);\n",
       "    this.send_message('ack', {});\n",
       "    var fig = this;\n",
       "    // Wait a second, then push the new image to the DOM so\n",
       "    // that it is saved nicely (might be nice to debounce this).\n",
       "    setTimeout(function () {\n",
       "        fig.push_to_output();\n",
       "    }, 1000);\n",
       "};\n",
       "\n",
       "mpl.figure.prototype._init_toolbar = function () {\n",
       "    var fig = this;\n",
       "\n",
       "    var toolbar = document.createElement('div');\n",
       "    toolbar.classList = 'btn-toolbar';\n",
       "    this.root.appendChild(toolbar);\n",
       "\n",
       "    function on_click_closure(name) {\n",
       "        return function (_event) {\n",
       "            return fig.toolbar_button_onclick(name);\n",
       "        };\n",
       "    }\n",
       "\n",
       "    function on_mouseover_closure(tooltip) {\n",
       "        return function (event) {\n",
       "            if (!event.currentTarget.disabled) {\n",
       "                return fig.toolbar_button_onmouseover(tooltip);\n",
       "            }\n",
       "        };\n",
       "    }\n",
       "\n",
       "    fig.buttons = {};\n",
       "    var buttonGroup = document.createElement('div');\n",
       "    buttonGroup.classList = 'btn-group';\n",
       "    var button;\n",
       "    for (var toolbar_ind in mpl.toolbar_items) {\n",
       "        var name = mpl.toolbar_items[toolbar_ind][0];\n",
       "        var tooltip = mpl.toolbar_items[toolbar_ind][1];\n",
       "        var image = mpl.toolbar_items[toolbar_ind][2];\n",
       "        var method_name = mpl.toolbar_items[toolbar_ind][3];\n",
       "\n",
       "        if (!name) {\n",
       "            /* Instead of a spacer, we start a new button group. */\n",
       "            if (buttonGroup.hasChildNodes()) {\n",
       "                toolbar.appendChild(buttonGroup);\n",
       "            }\n",
       "            buttonGroup = document.createElement('div');\n",
       "            buttonGroup.classList = 'btn-group';\n",
       "            continue;\n",
       "        }\n",
       "\n",
       "        button = fig.buttons[name] = document.createElement('button');\n",
       "        button.classList = 'btn btn-default';\n",
       "        button.href = '#';\n",
       "        button.title = name;\n",
       "        button.innerHTML = '<i class=\"fa ' + image + ' fa-lg\"></i>';\n",
       "        button.addEventListener('click', on_click_closure(method_name));\n",
       "        button.addEventListener('mouseover', on_mouseover_closure(tooltip));\n",
       "        buttonGroup.appendChild(button);\n",
       "    }\n",
       "\n",
       "    if (buttonGroup.hasChildNodes()) {\n",
       "        toolbar.appendChild(buttonGroup);\n",
       "    }\n",
       "\n",
       "    // Add the status bar.\n",
       "    var status_bar = document.createElement('span');\n",
       "    status_bar.classList = 'mpl-message pull-right';\n",
       "    toolbar.appendChild(status_bar);\n",
       "    this.message = status_bar;\n",
       "\n",
       "    // Add the close button to the window.\n",
       "    var buttongrp = document.createElement('div');\n",
       "    buttongrp.classList = 'btn-group inline pull-right';\n",
       "    button = document.createElement('button');\n",
       "    button.classList = 'btn btn-mini btn-primary';\n",
       "    button.href = '#';\n",
       "    button.title = 'Stop Interaction';\n",
       "    button.innerHTML = '<i class=\"fa fa-power-off icon-remove icon-large\"></i>';\n",
       "    button.addEventListener('click', function (_evt) {\n",
       "        fig.handle_close(fig, {});\n",
       "    });\n",
       "    button.addEventListener(\n",
       "        'mouseover',\n",
       "        on_mouseover_closure('Stop Interaction')\n",
       "    );\n",
       "    buttongrp.appendChild(button);\n",
       "    var titlebar = this.root.querySelector('.ui-dialog-titlebar');\n",
       "    titlebar.insertBefore(buttongrp, titlebar.firstChild);\n",
       "};\n",
       "\n",
       "mpl.figure.prototype._remove_fig_handler = function (event) {\n",
       "    var fig = event.data.fig;\n",
       "    if (event.target !== this) {\n",
       "        // Ignore bubbled events from children.\n",
       "        return;\n",
       "    }\n",
       "    fig.close_ws(fig, {});\n",
       "};\n",
       "\n",
       "mpl.figure.prototype._root_extra_style = function (el) {\n",
       "    el.style.boxSizing = 'content-box'; // override notebook setting of border-box.\n",
       "};\n",
       "\n",
       "mpl.figure.prototype._canvas_extra_style = function (el) {\n",
       "    // this is important to make the div 'focusable\n",
       "    el.setAttribute('tabindex', 0);\n",
       "    // reach out to IPython and tell the keyboard manager to turn it's self\n",
       "    // off when our div gets focus\n",
       "\n",
       "    // location in version 3\n",
       "    if (IPython.notebook.keyboard_manager) {\n",
       "        IPython.notebook.keyboard_manager.register_events(el);\n",
       "    } else {\n",
       "        // location in version 2\n",
       "        IPython.keyboard_manager.register_events(el);\n",
       "    }\n",
       "};\n",
       "\n",
       "mpl.figure.prototype._key_event_extra = function (event, _name) {\n",
       "    // Check for shift+enter\n",
       "    if (event.shiftKey && event.which === 13) {\n",
       "        this.canvas_div.blur();\n",
       "        // select the cell after this one\n",
       "        var index = IPython.notebook.find_cell_index(this.cell_info[0]);\n",
       "        IPython.notebook.select(index + 1);\n",
       "    }\n",
       "};\n",
       "\n",
       "mpl.figure.prototype.handle_save = function (fig, _msg) {\n",
       "    fig.ondownload(fig, null);\n",
       "};\n",
       "\n",
       "mpl.find_output_cell = function (html_output) {\n",
       "    // Return the cell and output element which can be found *uniquely* in the notebook.\n",
       "    // Note - this is a bit hacky, but it is done because the \"notebook_saving.Notebook\"\n",
       "    // IPython event is triggered only after the cells have been serialised, which for\n",
       "    // our purposes (turning an active figure into a static one), is too late.\n",
       "    var cells = IPython.notebook.get_cells();\n",
       "    var ncells = cells.length;\n",
       "    for (var i = 0; i < ncells; i++) {\n",
       "        var cell = cells[i];\n",
       "        if (cell.cell_type === 'code') {\n",
       "            for (var j = 0; j < cell.output_area.outputs.length; j++) {\n",
       "                var data = cell.output_area.outputs[j];\n",
       "                if (data.data) {\n",
       "                    // IPython >= 3 moved mimebundle to data attribute of output\n",
       "                    data = data.data;\n",
       "                }\n",
       "                if (data['text/html'] === html_output) {\n",
       "                    return [cell, data, j];\n",
       "                }\n",
       "            }\n",
       "        }\n",
       "    }\n",
       "};\n",
       "\n",
       "// Register the function which deals with the matplotlib target/channel.\n",
       "// The kernel may be null if the page has been refreshed.\n",
       "if (IPython.notebook.kernel !== null) {\n",
       "    IPython.notebook.kernel.comm_manager.register_target(\n",
       "        'matplotlib',\n",
       "        mpl.mpl_figure_comm\n",
       "    );\n",
       "}\n"
      ],
      "text/plain": [
       "<IPython.core.display.Javascript object>"
      ]
     },
     "metadata": {},
     "output_type": "display_data"
    },
    {
     "data": {
      "text/html": [
       "<img src=\"data:image/png;base64,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\" width=\"1400\">"
      ],
      "text/plain": [
       "<IPython.core.display.HTML object>"
      ]
     },
     "metadata": {},
     "output_type": "display_data"
    }
   ],
   "source": [
    "from matplotlib.animation import FuncAnimation\n",
    "\n",
    "\n",
    "fig = plt.figure(figsize=(14,7))\n",
    "ax1 = plt.subplot(121)\n",
    "ax2 = plt.subplot(222)\n",
    "ax3 = plt.subplot(224)\n",
    "pi_ani = PiAnimation(ax1, ax2, ax3)\n",
    "anim = FuncAnimation(fig, pi_ani, frames=10_000, interval=50, blit=True)\n",
    "plt.show()"
   ]
  },
  {
   "cell_type": "code",
   "execution_count": null,
   "metadata": {},
   "outputs": [],
   "source": []
  }
 ],
 "metadata": {
  "kernelspec": {
   "display_name": "Python 3 (ipykernel)",
   "language": "python",
   "name": "python3"
  },
  "language_info": {
   "codemirror_mode": {
    "name": "ipython",
    "version": 3
   },
   "file_extension": ".py",
   "mimetype": "text/x-python",
   "name": "python",
   "nbconvert_exporter": "python",
   "pygments_lexer": "ipython3",
   "version": "3.10.6"
  }
 },
 "nbformat": 4,
 "nbformat_minor": 4
}
